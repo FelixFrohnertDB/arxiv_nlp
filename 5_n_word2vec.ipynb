{
 "cells": [
  {
   "cell_type": "code",
   "execution_count": 1,
   "id": "b4b06eeb-b7bc-4787-a65f-de3ef301bd4b",
   "metadata": {},
   "outputs": [],
   "source": [
    "import matplotlib.pyplot as plt\n",
    "import numpy as np\n",
    "import pandas as pd\n",
    "import multiprocessing\n",
    "from gensim.models import Word2Vec\n",
    "from openTSNE import TSNE\n",
    "from fdict import sfdict\n",
    "from tqdm import tqdm\n",
    "from sklearn.decomposition import PCA\n",
    "from gensim.utils import RULE_DEFAULT, RULE_KEEP\n",
    "from gensim.models.callbacks import CallbackAny2Vec"
   ]
  },
  {
   "cell_type": "code",
   "execution_count": 2,
   "id": "f6f0e73d-8e47-420b-8987-d654445f49c8",
   "metadata": {},
   "outputs": [],
   "source": [
    "ngram_abstracts = np.load(\"files/ngram_abstracts.npy\", mmap_mode=\"r\")\n",
    "concept_arr = np.unique(np.load(\"files/overlapping_concepts.npy\"))\n",
    "year_arr = np.load(\"files/year_arr.npy\", mmap_mode=\"r\")\n",
    "month_arr = np.load(\"files/month_arr.npy\", mmap_mode=\"r\")"
   ]
  },
  {
   "cell_type": "code",
   "execution_count": 3,
   "id": "3ead6334",
   "metadata": {},
   "outputs": [
    {
     "name": "stderr",
     "output_type": "stream",
     "text": [
      "100%|██████████| 157821/157821 [00:00<00:00, 211500.79it/s]\n"
     ]
    }
   ],
   "source": [
    "def compute_word_count_subset(corpus, subset_words):\n",
    "    \n",
    "    for document in tqdm(corpus):\n",
    "        for word in document:\n",
    "            if word in subset_words:\n",
    "                subset_words[word] += 1\n",
    "    return subset_words\n",
    "\n",
    "# Compute word count for the subset of words \n",
    "word_count_subset = compute_word_count_subset([row.split() for row in ngram_abstracts], {k:0 for k in np.unique(concept_arr)})\n",
    "\n",
    "def filter_dict_by_occurrence(word_count_dict, n):\n",
    "    return {word: count for word, count in word_count_dict.items() if count > n}\n",
    "\n",
    "filtered_concept_dict = np.array(list(filter_dict_by_occurrence(word_count_subset, 10).keys()))"
   ]
  },
  {
   "cell_type": "code",
   "execution_count": 4,
   "id": "ba00ece1",
   "metadata": {},
   "outputs": [],
   "source": [
    "df_ab = pd.DataFrame(data=ngram_abstracts,    # values\n",
    "                columns=[\"ab\"])  # 1st row as the column names\n",
    "df_ab[\"year\"] = year_arr\n",
    "df_ab[\"month_arr\"] = month_arr"
   ]
  },
  {
   "cell_type": "code",
   "execution_count": 5,
   "id": "a28d4103",
   "metadata": {},
   "outputs": [
    {
     "data": {
      "text/html": [
       "<div>\n",
       "<style scoped>\n",
       "    .dataframe tbody tr th:only-of-type {\n",
       "        vertical-align: middle;\n",
       "    }\n",
       "\n",
       "    .dataframe tbody tr th {\n",
       "        vertical-align: top;\n",
       "    }\n",
       "\n",
       "    .dataframe thead th {\n",
       "        text-align: right;\n",
       "    }\n",
       "</style>\n",
       "<table border=\"1\" class=\"dataframe\">\n",
       "  <thead>\n",
       "    <tr style=\"text-align: right;\">\n",
       "      <th></th>\n",
       "      <th>ab</th>\n",
       "      <th>year</th>\n",
       "      <th>month_arr</th>\n",
       "    </tr>\n",
       "  </thead>\n",
       "  <tbody>\n",
       "    <tr>\n",
       "      <th>0</th>\n",
       "      <td>supplement paper arxivq bio containing text co...</td>\n",
       "      <td>2007</td>\n",
       "      <td>3</td>\n",
       "    </tr>\n",
       "    <tr>\n",
       "      <th>1</th>\n",
       "      <td>outlined possibility extend quantum formalism ...</td>\n",
       "      <td>2007</td>\n",
       "      <td>3</td>\n",
       "    </tr>\n",
       "    <tr>\n",
       "      <th>2</th>\n",
       "      <td>quantum_mechanical model diosi feldmann koslof...</td>\n",
       "      <td>2007</td>\n",
       "      <td>4</td>\n",
       "    </tr>\n",
       "    <tr>\n",
       "      <th>3</th>\n",
       "      <td>novel way picturing processing_quantum_informa...</td>\n",
       "      <td>2008</td>\n",
       "      <td>5</td>\n",
       "    </tr>\n",
       "    <tr>\n",
       "      <th>4</th>\n",
       "      <td>consider single ion confined trap radiation tr...</td>\n",
       "      <td>2007</td>\n",
       "      <td>4</td>\n",
       "    </tr>\n",
       "  </tbody>\n",
       "</table>\n",
       "</div>"
      ],
      "text/plain": [
       "                                                  ab  year  month_arr\n",
       "0  supplement paper arxivq bio containing text co...  2007          3\n",
       "1  outlined possibility extend quantum formalism ...  2007          3\n",
       "2  quantum_mechanical model diosi feldmann koslof...  2007          4\n",
       "3  novel way picturing processing_quantum_informa...  2008          5\n",
       "4  consider single ion confined trap radiation tr...  2007          4"
      ]
     },
     "execution_count": 5,
     "metadata": {},
     "output_type": "execute_result"
    }
   ],
   "source": [
    "df_ab.head()"
   ]
  },
  {
   "cell_type": "code",
   "execution_count": 6,
   "id": "9f625497",
   "metadata": {},
   "outputs": [
    {
     "name": "stderr",
     "output_type": "stream",
     "text": [
      "100%|██████████| 30/30 [53:57<00:00, 107.93s/it]\n"
     ]
    }
   ],
   "source": [
    "# Define important words\n",
    "phys_concept_dict = {k:1 for k in concept_arr}\n",
    "\n",
    "# Custom rule function\n",
    "def custom_rule(word, count, min_count):\n",
    "    if word in phys_concept_dict:\n",
    "        return RULE_KEEP\n",
    "    else:\n",
    "        return RULE_DEFAULT\n",
    "\n",
    "cores = multiprocessing.cpu_count()\n",
    "\n",
    "# init callback class\n",
    "class LossLogger(CallbackAny2Vec):\n",
    "    \"\"\"\n",
    "    Callback to print loss after each epoch\n",
    "    \"\"\"\n",
    "    def __init__(self):\n",
    "        self.epoch = 0\n",
    "        self.losses = []\n",
    "\n",
    "    def on_epoch_end(self, model):\n",
    "        loss = model.get_latest_training_loss()\n",
    "        \n",
    "        if self.epoch == 0:\n",
    "            self.losses.append(loss)\n",
    "            # print('Loss after epoch {}: {}'.format(self.epoch, loss))\n",
    "        else:\n",
    "            self.losses.append(loss- self.loss_previous_step)\n",
    "            # print('Loss after epoch {}: {}'.format(self.epoch, loss- self.loss_previous_step))\n",
    "        self.epoch += 1\n",
    "        self.loss_previous_step = loss\n",
    "loss_logger = LossLogger()\n",
    "\n",
    "w2v_model = Word2Vec(min_count=5,\n",
    "                     window=15,\n",
    "                     vector_size=128,\n",
    "                     sample=1e-4, \n",
    "                     alpha=0.01, \n",
    "                     min_alpha= 0.0001, \n",
    "                     negative=15,\n",
    "                     workers=cores-1)\n",
    "\n",
    "w2v_model.build_vocab([ab.split() for ab in df_ab[df_ab['year'] == int(1994)][\"ab\"].to_numpy()], trim_rule=custom_rule)\n",
    "w2v_model.train([ab.split() for ab in df_ab[df_ab['year'] == int(1994)][\"ab\"].to_numpy()], total_examples=w2v_model.corpus_count, epochs=750, compute_loss=True,callbacks=[loss_logger])\n",
    "# w2v_model.save(\"saved_models/model_year_{}.model\".format(1994))\n",
    "for year in tqdm(np.unique(year_arr)[1:]):\n",
    "   \n",
    "    ngram_abstracts_year = [ab.split() for ab in df_ab[df_ab['year'] == int(year)][\"ab\"].to_numpy()]\n",
    "\n",
    "    w2v_model.build_vocab(ngram_abstracts_year, progress_per=10000,update=True, trim_rule=custom_rule)\n",
    "    w2v_model.train(ngram_abstracts_year, total_examples=w2v_model.corpus_count, epochs=750, compute_loss=True,callbacks=[loss_logger])\n",
    "    # w2v_model.save(\"saved_models/model_year_{}.model\".format(year))\n"
   ]
  },
  {
   "cell_type": "code",
   "execution_count": 7,
   "id": "a429947f",
   "metadata": {},
   "outputs": [
    {
     "data": {
      "image/png": "[encoded data removed]",
      "text/plain": [
       "<Figure size 640x480 with 1 Axes>"
      ]
     },
     "metadata": {},
     "output_type": "display_data"
    }
   ],
   "source": [
    "# Plot the training loss\n",
    "plt.plot(loss_logger.losses)\n",
    "plt.xlabel('Epochs')\n",
    "plt.ylabel('Loss')\n",
    "plt.title('Training Loss over Epochs')\n",
    "plt.show()\n"
   ]
  },
  {
   "cell_type": "code",
   "execution_count": null,
   "id": "28469807",
   "metadata": {},
   "outputs": [],
   "source": []
  },
  {
   "cell_type": "markdown",
   "id": "dfb118cd",
   "metadata": {},
   "source": [
    "First pass: Find all occurances of concepts individually & save them in a sfdict format."
   ]
  },
  {
   "cell_type": "code",
   "execution_count": 8,
   "id": "268a0a70",
   "metadata": {},
   "outputs": [
    {
     "name": "stderr",
     "output_type": "stream",
     "text": [
      "100%|██████████| 31/31 [00:04<00:00,  7.24it/s]\n"
     ]
    },
    {
     "data": {
      "text/plain": [
       "(130107, 265763)"
      ]
     },
     "execution_count": 8,
     "metadata": {},
     "output_type": "execute_result"
    }
   ],
   "source": [
    "c_dict = {}\n",
    "cnt_0 = 0 \n",
    "cnt_1 = 0\n",
    "for year in tqdm(np.unique(year_arr)):\n",
    "        \n",
    "    loaded_w2v = Word2Vec.load(\"saved_models/model_year_{}.model\".format(year))\n",
    "\n",
    "    for c in filtered_concept_dict:\n",
    "        if c not in c_dict:\n",
    "            c_dict[c] = {}\n",
    "\n",
    "        if year in c_dict[c]:\n",
    "            continue \n",
    "        else:\n",
    "\n",
    "            try:\n",
    "                vec_enc = loaded_w2v.wv.get_vector(c)\n",
    "                c_dict[c][year] =  vec_enc\n",
    "                cnt_0 +=1\n",
    "                \n",
    "            except: \n",
    "                cnt_1+=1\n",
    "                pass\n",
    "cnt_1,cnt_0"
   ]
  },
  {
   "cell_type": "code",
   "execution_count": 9,
   "id": "bbec7be0",
   "metadata": {},
   "outputs": [],
   "source": [
    "# c_sfdict = sfdict(c_dict, filename='files/concept_year_dict.db') \n",
    "# c_sfdict.sync()  # synchronize all changes back to disk\n",
    "# c_sfdict.close()  # should always close a db"
   ]
  },
  {
   "cell_type": "markdown",
   "id": "286b5db7",
   "metadata": {},
   "source": [
    "Second pass: Fill in empty entries: \n",
    "\n",
    "1994: empty 1995: empty 1996: encoding, then use same value as 1996 \n",
    "\n",
    "1996: encoding_0 1997: empty 1998: encoding_1 use same value as 1998, i.e. always from right to left "
   ]
  },
  {
   "cell_type": "code",
   "execution_count": 10,
   "id": "88e513c4",
   "metadata": {},
   "outputs": [
    {
     "name": "stderr",
     "output_type": "stream",
     "text": [
      "100%|██████████| 12770/12770 [00:10<00:00, 1231.05it/s]\n"
     ]
    }
   ],
   "source": [
    "len_arr = []\n",
    "len_new_arr = []\n",
    "concept_inx_arr = []\n",
    "\n",
    "\n",
    "for c in tqdm(filtered_concept_dict):\n",
    "   \n",
    "    l = len(c_dict[c])\n",
    "    len_arr.append(l)\n",
    "    \n",
    "    if l > 0:\n",
    "        concept_inx_arr.append(c)\n",
    "        for success_inx, success_year in enumerate(np.unique(year_arr)): \n",
    "            if success_year in c_dict[c]:\n",
    "                break\n",
    "            \n",
    "        for inx, year in enumerate(np.unique(year_arr)[:success_inx]): \n",
    "            if year not in c_dict[c]:\n",
    "                c_dict[c][year] = c_dict[c][success_year]\n",
    "            else:\n",
    "                pass\n",
    "\n",
    "    len_new_arr.append(len(c_dict[c]))\n",
    "concept_inx_arr = np.array(concept_inx_arr)"
   ]
  },
  {
   "cell_type": "code",
   "execution_count": 11,
   "id": "f8cfc6d7",
   "metadata": {},
   "outputs": [
    {
     "data": {
      "text/plain": [
       "128"
      ]
     },
     "execution_count": 11,
     "metadata": {},
     "output_type": "execute_result"
    }
   ],
   "source": [
    "len(c_dict[c][year])"
   ]
  },
  {
   "cell_type": "code",
   "execution_count": 12,
   "id": "6367497f",
   "metadata": {},
   "outputs": [],
   "source": [
    "# c_dict[\"ac_stark_shift\"].keys()\n",
    "\n",
    "# def filter_dict_by_keys(input_dict, allowed_keys):\n",
    "#     # Create a new dictionary to store filtered key-value pairs\n",
    "#     filtered_dict = {}\n",
    "    \n",
    "#     # Iterate over the items in the input dictionary\n",
    "#     for key, value in input_dict.items():\n",
    "#         # Check if the current key is in the list of allowed keys\n",
    "#         if key in allowed_keys:\n",
    "#             # If yes, add the key-value pair to the filtered dictionary\n",
    "#             filtered_dict[key] = value\n",
    "    \n",
    "#     return filtered_dict"
   ]
  },
  {
   "cell_type": "code",
   "execution_count": 13,
   "id": "0b6fc7f6",
   "metadata": {},
   "outputs": [],
   "source": [
    "c_sfdict = sfdict(c_dict, filename='files/concept_year_dict_filled_1.db') \n",
    "c_sfdict.sync()  # synchronize all changes back to disk\n",
    "c_sfdict.close()  # should always close a db"
   ]
  },
  {
   "cell_type": "code",
   "execution_count": 14,
   "id": "f3dc54a1",
   "metadata": {},
   "outputs": [
    {
     "data": {
      "text/plain": [
       "(array([ 0, 31]), array([  402, 12368]))"
      ]
     },
     "execution_count": 14,
     "metadata": {},
     "output_type": "execute_result"
    }
   ],
   "source": [
    "np.unique(len_new_arr,return_counts=True)"
   ]
  },
  {
   "cell_type": "code",
   "execution_count": 15,
   "id": "baf76f38",
   "metadata": {},
   "outputs": [
    {
     "ename": "NameError",
     "evalue": "name 'stop' is not defined",
     "output_type": "error",
     "traceback": [
      "\u001b[0;31m---------------------------------------------------------------------------\u001b[0m",
      "\u001b[0;31mNameError\u001b[0m                                 Traceback (most recent call last)",
      "Cell \u001b[0;32mIn[15], line 1\u001b[0m\n\u001b[0;32m----> 1\u001b[0m \u001b[43mstop\u001b[49m\n",
      "\u001b[0;31mNameError\u001b[0m: name 'stop' is not defined"
     ]
    }
   ],
   "source": [
    "stop"
   ]
  },
  {
   "cell_type": "code",
   "execution_count": null,
   "id": "718e0e94",
   "metadata": {},
   "outputs": [],
   "source": [
    "# takes about 60 mins\n",
    "# for year in tqdm(np.unique(year_arr)):\n",
    "        \n",
    "#     c_dict = sfdict(filename='files/concept_year_dict_new.db')    \n",
    "#     loaded_w2v = Word2Vec.load(\"saved_models/model_year_{}.model\".format(year))\n",
    "\n",
    "#     for c in concept_arr:\n",
    "#         if c not in c_dict:\n",
    "#             c_dict[c] = {}\n",
    "\n",
    "#         if year in c_dict[c]:\n",
    "#             continue \n",
    "#         else:\n",
    "\n",
    "#             try:\n",
    "#                 vec_enc = loaded_w2v.wv.get_vector(c)\n",
    "#                 c_dict[c][year] =  vec_enc\n",
    "#             except: \n",
    "#                 pass\n",
    "\n",
    "# # takes about 12 mins\n",
    "# len_arr = []\n",
    "# len_new_arr = []\n",
    "# concept_inx_arr = []\n",
    "\n",
    "# c_dict = sfdict(filename='files/concept_year_dict_new.db')\n",
    "# for c in tqdm(concept_arr):\n",
    "   \n",
    "#     l = len(c_dict[c])\n",
    "#     len_arr.append(l)\n",
    "    \n",
    "#     if l > 0:\n",
    "#         concept_inx_arr.append(c)\n",
    "#         for success_inx, success_year in enumerate(np.unique(year_arr)): \n",
    "#             if success_year in c_dict[c]:\n",
    "#                 break\n",
    "            \n",
    "#         for inx, year in enumerate(np.unique(year_arr)[:success_inx]): \n",
    "#             if year not in c_dict[c]:\n",
    "#                 c_dict[c][year] = c_dict[c][success_year]\n",
    "#             else:\n",
    "#                 pass\n",
    "\n",
    "#     len_new_arr.append(len(c_dict[c]))\n",
    "# concept_inx_arr = np.array(concept_inx_arr)\n",
    "# c_dict.sync()  # synchronize all changes back to disk\n",
    "# c_dict.close()  # should always close a db\n",
    "\n",
    "# # check which concepts worked out\n",
    "\n",
    "# len_new_arr = []\n",
    "\n",
    "\n",
    "# c_dict = sfdict(filename='files/concept_year_dict.db')\n",
    "# for c in tqdm(concept_arr):\n",
    "   \n",
    "#     l = len(c_dict[c])\n",
    "#     if l > 0:\n",
    "        \n",
    "#         len_new_arr.append(len(c_dict[c]))\n",
    "    \n",
    "# c_dict.close()  # should always close a db"
   ]
  },
  {
   "cell_type": "code",
   "execution_count": null,
   "id": "17b249fd",
   "metadata": {},
   "outputs": [
    {
     "data": {
      "text/plain": [
       "Text(0.5, 1.0, 'power_series_expansion vs ac_stark_effect')"
      ]
     },
     "execution_count": 29,
     "metadata": {},
     "output_type": "execute_result"
    },
    {
     "data": {
      "image/png": "[encoded data removed]",
      "text/plain": [
       "<Figure size 640x480 with 1 Axes>"
      ]
     },
     "metadata": {},
     "output_type": "display_data"
    }
   ],
   "source": [
    "\n",
    "found = False\n",
    "a_arr = []\n",
    "while not found:\n",
    "    c1=np.random.choice(concept_inx_arr)\n",
    "    c2=np.random.choice(concept_inx_arr)\n",
    "\n",
    "    zx_d = c_dict[c1]\n",
    "    su_d = c_dict[c2]\n",
    "\n",
    "    track_vec_bell_inequality = np.array([zx_d[i] for i in np.unique(year_arr)])\n",
    "    track_vec_schroding_equation = np.array([su_d[i] for i in np.unique(year_arr)])\n",
    "\n",
    "    def similarity_cosine(vec1, vec2):\n",
    "        cosine_similarity = np.dot(vec1, vec2)/(np.linalg.norm(vec1)* np.linalg.norm(vec2))\n",
    "        return cosine_similarity\n",
    "\n",
    "    a = [similarity_cosine(v1, v2) for (v1,v2) in zip(track_vec_bell_inequality,track_vec_schroding_equation)]\n",
    "\n",
    "    a_arr .append(a)\n",
    "    if (a[-1]-a[0])<0.3:\n",
    "        found = True \n",
    "        \n",
    "plt.plot(np.unique(year_arr),a)\n",
    "plt.ylabel(\"Cosine Sim\")\n",
    "plt.xlabel(\"Year\")\n",
    "plt.title(c1 + \" vs \"+c2)"
   ]
  },
  {
   "cell_type": "code",
   "execution_count": null,
   "id": "bb0e59bc",
   "metadata": {},
   "outputs": [],
   "source": [
    "# import heapq\n",
    "\n",
    "\n",
    "# class TopNegativeValuesTotal:\n",
    "#     def __init__(self):\n",
    "#         self.heap = []\n",
    "#         self.size = 100\n",
    "\n",
    "#     def add_value(self, value, string1, string2):\n",
    "#         if len(self.heap) < self.size:\n",
    "#             heapq.heappush(self.heap, [-value, string1, string2])  # Negate the value to make it comparable for a min heap\n",
    "#         else:\n",
    "#             min_val = self.heap[0][0]\n",
    "#             if -value > min_val:  # Negate the value to compare with the minimum value in the heap\n",
    "#                 heapq.heapreplace(self.heap, [-value, string1, string2])  # Negate the value to make it comparable for a min heap\n",
    "\n",
    "#     def get_top_values(self):\n",
    "#         return sorted([[-x[0], x[1], x[2]] for x in self.heap], key=lambda x: x[0])  # Negate the values back to positive\n",
    "    \n",
    "# class TopNegativeValuesRelative:\n",
    "#     def __init__(self):\n",
    "#         self.heap = []\n",
    "#         self.size = 100\n",
    "\n",
    "#     def add_value(self, value, string1, string2):\n",
    "#         if len(self.heap) < self.size:\n",
    "#             heapq.heappush(self.heap, [-value, string1, string2])  # Negate the value to make it comparable for a min heap\n",
    "#         else:\n",
    "#             min_val = self.heap[0][0]\n",
    "#             if -value > min_val:  # Negate the value to compare with the minimum value in the heap\n",
    "#                 heapq.heapreplace(self.heap, [-value, string1, string2])  # Negate the value to make it comparable for a min heap\n",
    "\n",
    "#     def get_top_values(self):\n",
    "#         return sorted([[-x[0], x[1], x[2]] for x in self.heap], key=lambda x: x[0])  # Negate the values back to positive\n",
    "\n",
    "# # Example usage:\n",
    "# top_values_tracker = TopNegativeValuesTotal()\n",
    "\n",
    "# # Assuming some process generates values\n",
    "# process_values = np.random.uniform(low=-1, high=1, size=(10000, 3))\n",
    "\n",
    "# for value, string1, string2 in process_values:\n",
    "#     if value < 0:  # Only consider negative values\n",
    "#         top_values_tracker.add_value(value, string1, string2)\n",
    "\n",
    "# top_100_negative_values = top_values_tracker.get_top_values()\n",
    "# print(\"Top 100 negative values:\", top_100_negative_values)\n"
   ]
  },
  {
   "cell_type": "code",
   "execution_count": null,
   "id": "71ec1acf",
   "metadata": {},
   "outputs": [],
   "source": [
    "# import heapq\n",
    "\n",
    "# class TopNegativeValues:\n",
    "#     def __init__(self):\n",
    "#         self.heap = []\n",
    "\n",
    "#     def add_value(self, value):\n",
    "#         if len(self.heap) < 100:\n",
    "#             heapq.heappush(self.heap, value)\n",
    "#         else:\n",
    "#             if value < self.heap[0]:\n",
    "#                 heapq.heappop(self.heap)\n",
    "#                 heapq.heappush(self.heap, value)\n",
    "\n",
    "#     def get_top_negative_values(self):\n",
    "#         return sorted(self.heap)\n",
    "\n",
    "# # Example usage:\n",
    "# top_negatives = TopNegativeValues()\n",
    "# process_values = np.random.uniform(low=-1,high=1,size=10000)\n",
    "\n",
    "# for value in process_values:\n",
    "#     top_negatives.add_value(value)\n",
    "\n",
    "# print(\"Top 100 negative values:\", top_negatives.get_top_negative_values())\n"
   ]
  },
  {
   "cell_type": "code",
   "execution_count": null,
   "id": "f01213ec",
   "metadata": {},
   "outputs": [],
   "source": [
    "# import heapq\n",
    "\n",
    "# class TopPositiveValuesTotal:\n",
    "#     def __init__(self):\n",
    "#         self.heap = []\n",
    "#         self.size = 100\n",
    "\n",
    "#     def add_value(self, value, string1, string2):\n",
    "        \n",
    "#         if len(self.heap) < self.size:\n",
    "#             heapq.heappush(self.heap, [value, string1, string2])\n",
    "#         else:\n",
    "#             min_val = self.heap[0][0]\n",
    "#             if value > min_val:\n",
    "#                 heapq.heapreplace(self.heap, [value, string1, string2])\n",
    "\n",
    "#     def get_top_values(self):\n",
    "#         return sorted(self.heap, key=lambda x: x[0], reverse=True)\n",
    "    \n",
    "# class TopPositiveValuesRelative:\n",
    "#     def __init__(self):\n",
    "#         self.heap = []\n",
    "#         self.size = 100\n",
    "\n",
    "#     def add_value(self, value, string1, string2):\n",
    "        \n",
    "#         if len(self.heap) < self.size:\n",
    "#             heapq.heappush(self.heap, [value, string1, string2])\n",
    "#         else:\n",
    "#             min_val = self.heap[0][0]\n",
    "#             if value > min_val:\n",
    "#                 heapq.heapreplace(self.heap, [value, string1, string2])\n",
    "\n",
    "#     def get_top_values(self):\n",
    "#         return sorted(self.heap, key=lambda x: x[0], reverse=True)\n",
    "\n",
    "# # Example usage:\n",
    "# top_values_tracker_relative_pos = TopPositiveValuesRelative()\n",
    "# top_values_tracker_total_pos = TopPositiveValuesTotal()\n",
    "# top_values_tracker_relative_neg = TopNegativeValuesRelative()\n",
    "# top_values_tracker_total_neg = TopNegativeValuesTotal()\n",
    "\n",
    "\n",
    "# top_values_tracker_relative_pos.add_value(relative_change, c_1, c_2)\n",
    "# top_values_tracker_total_pos.add_value(distance_change, c_1, c_2)\n",
    "# top_values_tracker_relative_neg.add_value(relative_change, c_1, c_2)\n",
    "# top_values_tracker_total_neg.add_value(distance_change, c_1, c_2)\n",
    "\n",
    "\n",
    "\n",
    "\n",
    "# # Assuming some process generates values\n",
    "# process_values = np.random.uniform(low=-1,high=1,size=(10000,3))\n",
    "\n",
    "# for value, string1, string2 in process_values:\n",
    "#     top_values_tracker.add_value(value, string1, string2)\n",
    "\n",
    "# top_100_positive_values = top_values_tracker.get_top_values()\n",
    "# print(\"Top 100 positive values:\", top_100_positive_values)\n"
   ]
  }
 ],
 "metadata": {
  "kernelspec": {
   "display_name": "Python 3 (ipykernel)",
   "language": "python",
   "name": "python3"
  },
  "language_info": {
   "codemirror_mode": {
    "name": "ipython",
    "version": 3
   },
   "file_extension": ".py",
   "mimetype": "text/x-python",
   "name": "python",
   "nbconvert_exporter": "python",
   "pygments_lexer": "ipython3",
   "version": "3.9.13"
  }
 },
 "nbformat": 4,
 "nbformat_minor": 5
}
