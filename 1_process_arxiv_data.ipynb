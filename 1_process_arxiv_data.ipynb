{
 "cells": [
  {
   "cell_type": "code",
   "execution_count": 2,
   "id": "b4b06eeb-b7bc-4787-a65f-de3ef301bd4b",
   "metadata": {},
   "outputs": [],
   "source": [
    "import json\n",
    "import re\n",
    "import spacy\n",
    "from tqdm import tqdm\n",
    "from gensim.parsing.preprocessing import remove_stopwords\n",
    "from nltk.tokenize import word_tokenize\n",
    "from nltk.stem import WordNetLemmatizer"
   ]
  },
  {
   "cell_type": "code",
   "execution_count": 3,
   "id": "b6ece0ad",
   "metadata": {},
   "outputs": [],
   "source": [
    "nlp = spacy.load('en_core_web_sm', disable=['ner', 'parser']) \n",
    "\n",
    "def lemmatize_text(text):\n",
    "    doc = nlp(text)\n",
    "    txt = [token.lemma_ for token in doc]\n",
    "    return ' '.join(txt)\n",
    "    \n",
    "def extract_first_item(match):\n",
    "    return match.group()[:5]"
   ]
  },
  {
   "cell_type": "code",
   "execution_count": 1,
   "id": "d7c497e8",
   "metadata": {},
   "outputs": [],
   "source": [
    "year_dict = {year: 0 for year in range(1994, 2025)}"
   ]
  },
  {
   "cell_type": "code",
   "execution_count": 13,
   "id": "8684b9bb",
   "metadata": {},
   "outputs": [
    {
     "name": "stderr",
     "output_type": "stream",
     "text": [
      "2426574it [00:42, 57383.95it/s] \n"
     ]
    }
   ],
   "source": [
    "# Initialize NLTK's WordNet Lemmatizer\n",
    "lemmatizer = WordNetLemmatizer()\n",
    "\n",
    "replace_pairs = [['\\n',' '],['-',' '],[' \\\" a','oa'],['\\\" a','ae'],['\\\"a','ae'],[' \\\" o','oe'],['\\\" o','oe'],['\\\"o','oe'],[' \\\" u','ue'], ['\\\" u','ue'],['\\\"u','ue'],[' \\' a','a'],[' \\' e','e'],[' \\' o','o'],[\"\\' \", \"\"],[\"\\'\", \"\"],['  ',' '],['  ',' ']]\n",
    "\n",
    "def replace_string(text):\n",
    "    for old, new in replace_pairs:\n",
    "        text = text.replace(old, new)\n",
    "    return text\n",
    "\n",
    "def preprocess_text(text):\n",
    "    # Remove non-alphanumeric characters and lowercasing\n",
    "    text = replace_string(text)\n",
    "    text = re.sub(r'[^a-zA-Z\\s]', '', text).lower()\n",
    "    text = remove_stopwords(text)\n",
    "\n",
    "    # Tokenize the text\n",
    "    tokens = word_tokenize(text)\n",
    "    # Lemmatize tokens\n",
    "    lemmatized_tokens = [lemmatizer.lemmatize(token) for token in tokens]\n",
    "    # Remove stopwords\n",
    "    \n",
    "    return lemmatized_tokens\n",
    "\n",
    "# Runtime: ~2 minutes            \n",
    "with open('saved_files/arxiv_preprocessed.csv','w', newline='') as file:\n",
    "    for line in tqdm(open(\"saved_files/arxiv-metadata-oai-snapshot.json\", 'r')): \n",
    "        temp = json.loads(line) \n",
    "        \n",
    "        if temp[\"categories\"] == \"quant-ph\":\n",
    "            import pandas as pd \n",
    "            ds = temp[\"versions\"][0][\"created\"]\n",
    "            year = ds.split()[3]\n",
    "\n",
    "            year_dict[int(year)] += 1\n",
    "            if int(year) > 2023:\n",
    "                continue \n",
    "            \n",
    "             \n",
    "            abstract = temp.get(\"abstract\", \"\").strip()            \n",
    "            processed_abstract = preprocess_text(abstract)\n",
    "\n",
    "            if processed_abstract == []:\n",
    "                continue\n",
    "\n",
    "            id_str = str(temp[\"id\"])\n",
    "            \n",
    "            save_txt = \"{},{},{}\".format(id_str, ' '.join(processed_abstract), str(temp[\"versions\"][0][\"created\"]).replace(\",\",\"\") )\n",
    "\n",
    "            file.write(save_txt)\n",
    "            file.write('\\n') "
   ]
  }
 ],
 "metadata": {
  "kernelspec": {
   "display_name": "arxiv_venv",
   "language": "python",
   "name": "python3"
  },
  "language_info": {
   "codemirror_mode": {
    "name": "ipython",
    "version": 3
   },
   "file_extension": ".py",
   "mimetype": "text/x-python",
   "name": "python",
   "nbconvert_exporter": "python",
   "pygments_lexer": "ipython3",
   "version": "3.9.13"
  }
 },
 "nbformat": 4,
 "nbformat_minor": 5
}
