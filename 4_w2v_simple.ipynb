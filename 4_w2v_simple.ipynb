{
 "cells": [
  {
   "cell_type": "code",
   "execution_count": 1,
   "id": "b4b06eeb-b7bc-4787-a65f-de3ef301bd4b",
   "metadata": {},
   "outputs": [],
   "source": [
    "# import openai\n",
    "# import time \n",
    "import matplotlib.pyplot as plt\n",
    "import numpy as np\n",
    "# import json\n",
    "# import pandas as pd\n",
    "# import re\n",
    "# %matplotlib inlinew2v_model\n",
    "# from rake_nltk import Rake\n",
    "import multiprocessing\n",
    "from gensim.models.phrases import Phrases, Phraser\n",
    "from gensim.models import Word2Vec\n",
    "# import seaborn as sns\n",
    "# sns.set_style(\"darkgrid\")\n",
    "\n",
    "# from sklearn.decomposition import PCA\n",
    "# from sklearn.manifold import TSNE\n",
    "# import spacy\n",
    "# import gensim\n",
    "# from collections import defaultdict\n",
    "# from tqdm import tqdm"
   ]
  },
  {
   "cell_type": "code",
   "execution_count": 3,
   "id": "e89e5e6c-b1d4-4148-9171-44b07b3d8395",
   "metadata": {},
   "outputs": [],
   "source": [
    "ngram_abstracts = np.load(\"files/ngram_abstracts_repl.npy\", mmap_mode=\"r\")\n",
    "ngram_abstracts = [ab.split() for ab in ngram_abstracts]"
   ]
  },
  {
   "cell_type": "code",
   "execution_count": 6,
   "id": "44af9e96",
   "metadata": {},
   "outputs": [],
   "source": [
    "concept_arr = np.load(\"files/overlapping_save_concepts.npy\")"
   ]
  },
  {
   "cell_type": "code",
   "execution_count": 7,
   "id": "a36234e0-6ae9-4952-9778-a9c52e3beb76",
   "metadata": {},
   "outputs": [],
   "source": [
    "cores = multiprocessing.cpu_count()\n",
    "\n",
    "w2v_model = Word2Vec(min_count=5,\n",
    "                     window=8,\n",
    "                     vector_size=200,\n",
    "                     sample=1e-4, \n",
    "                     alpha=0.01, \n",
    "                     min_alpha= 0.0001, \n",
    "                     negative=15,\n",
    "                     workers=cores-1)"
   ]
  },
  {
   "cell_type": "code",
   "execution_count": 8,
   "id": "4d81e22e-252e-4581-903e-5ea7197bb442",
   "metadata": {},
   "outputs": [
    {
     "data": {
      "text/plain": [
       "(249114578, 547531980)"
      ]
     },
     "execution_count": 8,
     "metadata": {},
     "output_type": "execute_result"
    }
   ],
   "source": [
    "w2v_model.build_vocab(ngram_abstracts, progress_per=10000)\n",
    "w2v_model.train(ngram_abstracts, total_examples=w2v_model.corpus_count, epochs=30, report_delay=1)\n",
    "# w2v_model.save(\"w2v_model_trained_stop_1.model\")"
   ]
  },
  {
   "cell_type": "code",
   "execution_count": 9,
   "id": "376259aa",
   "metadata": {},
   "outputs": [
    {
     "name": "stdout",
     "output_type": "stream",
     "text": [
      "Similarity: \n",
      "A superconductor is similar to: \n",
      "   [*] superconductivity                   \t (0.7858136892318726)\n",
      "   [*] cuprate                             \t (0.7721399068832397)\n",
      "   [*] high_tc                             \t (0.7675163745880127)\n",
      "   [*] iron_base_superconductor            \t (0.7076914310455322)\n",
      "   [*] s_wave_superconductor               \t (0.6823630332946777)\n",
      "Majorana is similar to: \n",
      "   [*] majorana_zero                       \t (0.8127893805503845)\n",
      "   [*] majorana_fermion                    \t (0.8068752288818359)\n",
      "   [*] topological_superconductor          \t (0.7567262649536133)\n",
      "   [*] majorana_bind                       \t (0.6991627812385559)\n",
      "   [*] non_abelian_statistic               \t (0.6944376230239868)\n",
      "Topological is similar to: \n",
      "   [*] non_trivial_topological             \t (0.7923316955566406)\n",
      "   [*] higher_ord_topological              \t (0.7408981323242188)\n",
      "   [*] topologically_order                 \t (0.7399627566337585)\n",
      "   [*] topologically_non_trivial           \t (0.7365224361419678)\n",
      "   [*] spt                                 \t (0.7257190346717834)\n",
      "A phonon is similar to: \n",
      "   [*] acoustic_phonon                     \t (0.7212655544281006)\n",
      "   [*] vibrational_mode                    \t (0.6613742709159851)\n",
      "   [*] two_phonon                          \t (0.6553905606269836)\n",
      "   [*] vibration                           \t (0.6372826099395752)\n",
      "   [*] phononic                            \t (0.6323623061180115)\n",
      "Entanglement is similar to: \n",
      "   [*] bipartite                           \t (0.6638860702514648)\n",
      "   [*] genuine_multipartite                \t (0.6628425717353821)\n",
      "   [*] tripartite                          \t (0.656446099281311)\n",
      "   [*] negativity                          \t (0.6538141965866089)\n",
      "   [*] genuine_tripartite                  \t (0.6503195762634277)\n"
     ]
    }
   ],
   "source": [
    "print(\"Similarity: \")\n",
    "print(\"A superconductor is similar to: \")\n",
    "for s in w2v_model.wv.most_similar(positive=['superconductor'], topn=5):\n",
    "    print(\"   [*] {0:35} \\t ({1})\".format(s[0], s[1]))\n",
    "    \n",
    "print(\"Majorana is similar to: \")\n",
    "for s in w2v_model.wv.most_similar(positive=['majorana'], topn=5):\n",
    "    print(\"   [*] {0:35} \\t ({1})\".format(s[0], s[1]))\n",
    "\n",
    "print(\"Topological is similar to: \")    \n",
    "for s in w2v_model.wv.most_similar(positive=['topological'], topn=5):\n",
    "    print(\"   [*] {0:35} \\t ({1})\".format(s[0], s[1]))\n",
    "\n",
    "print(\"A phonon is similar to: \")\n",
    "for s in w2v_model.wv.most_similar(positive=['phonon'], topn=5):\n",
    "    print(\"   [*] {0:35} \\t ({1})\".format(s[0], s[1]))\n",
    "\n",
    "print(\"Entanglement is similar to: \")\n",
    "for s in w2v_model.wv.most_similar(positive=['entanglement'], topn=5):\n",
    "    print(\"   [*] {0:35} \\t ({1})\".format(s[0], s[1]))\n",
    "\n"
   ]
  },
  {
   "cell_type": "code",
   "execution_count": 10,
   "id": "9f5f2f0c",
   "metadata": {},
   "outputs": [
    {
     "name": "stdout",
     "output_type": "stream",
     "text": [
      "\n",
      "\n",
      "Arithmetics: \n",
      "Majorana + Braiding = \n",
      "   [*] non_abelian_statistic               \t (0.8579176068305969)\n",
      "   [*] majorana_fermion                    \t (0.8423298001289368)\n",
      "   [*] braid                               \t (0.7961822748184204)\n",
      "   [*] ise_anyon                           \t (0.7779061794281006)\n",
      "   [*] non_abelian_anyon                   \t (0.7769174575805664)\n",
      "particle + charge = \n",
      "   [*] electric_charge                     \t (0.7145297527313232)\n",
      "   [*] dyon                                \t (0.593201756477356)\n",
      "   [*] point_like                          \t (0.5860793590545654)\n",
      "   [*] electron                            \t (0.5839517712593079)\n",
      "   [*] solenoid                            \t (0.5625860095024109)\n",
      "electron - charge = \n",
      "   [*] donor_electron                      \t (0.47077104449272156)\n",
      "   [*] donor                               \t (0.44335854053497314)\n",
      "   [*] charge_carrier                      \t (0.4392635226249695)\n",
      "   [*] two_electron                        \t (0.4370327591896057)\n",
      "   [*] heavy_hole                          \t (0.43622076511383057)\n",
      "electrons + magnetic field = \n",
      "   [*] electric_field                      \t (0.7073951959609985)\n",
      "   [*] magnetic_moment                     \t (0.6943755149841309)\n",
      "   [*] spin_precession                     \t (0.6764455437660217)\n",
      "   [*] g_factor                            \t (0.6156784892082214)\n",
      "   [*] in_plane                            \t (0.6126236319541931)\n",
      "Electron + Hole = \n",
      "   [*] conduction_band                     \t (0.6790699362754822)\n",
      "   [*] charge_carrier                      \t (0.6572576761245728)\n",
      "   [*] electron_hole                       \t (0.6555505990982056)\n",
      "   [*] conduction_electron                 \t (0.6238853931427002)\n",
      "   [*] heavy_hole                          \t (0.6132215261459351)\n",
      "Superconductor + Topological = \n",
      "   [*] topological_insulator               \t (0.8001500368118286)\n",
      "   [*] topological_superconductor          \t (0.7624231576919556)\n",
      "   [*] insulator                           \t (0.743031919002533)\n",
      "   [*] higher_ord_topological              \t (0.7257199883460999)\n",
      "   [*] topologically_non_trivial           \t (0.7139912843704224)\n",
      "Spin + Magnetic Field = \n",
      "   [*] magnetic_moment                     \t (0.6565361022949219)\n",
      "   [*] external_magnetic                   \t (0.6429301500320435)\n",
      "   [*] magnetic                            \t (0.6424229741096497)\n",
      "   [*] magnetization                       \t (0.6342644691467285)\n",
      "   [*] spin_precession                     \t (0.6260720491409302)\n"
     ]
    }
   ],
   "source": [
    "print(\"\\n\")\n",
    "print(\"Arithmetics: \")\n",
    "print(\"Majorana + Braiding = \")\n",
    "for s in w2v_model.wv.most_similar(positive=['majorana', 'braiding'], topn=5):\n",
    "    print(\"   [*] {0:35} \\t ({1})\".format(s[0], s[1]))\n",
    "    \n",
    "print(\"particle + charge = \")\n",
    "for s in w2v_model.wv.most_similar(positive=['particle', 'charge'], topn=5):\n",
    "    print(\"   [*] {0:35} \\t ({1})\".format(s[0], s[1]))\n",
    "    \n",
    "print(\"electron - charge = \")\n",
    "for s in w2v_model.wv.most_similar(positive=['electron', 'positive'], negative=['negative'], topn=5):\n",
    "    print(\"   [*] {0:35} \\t ({1})\".format(s[0], s[1]))\n",
    "    \n",
    "print(\"electrons + magnetic field = \")\n",
    "for s in w2v_model.wv.most_similar(positive=['electron', 'magnetic_field'], topn=5):\n",
    "    print(\"   [*] {0:35} \\t ({1})\".format(s[0], s[1]))\n",
    "\n",
    "print(\"Electron + Hole = \")\n",
    "for s in w2v_model.wv.most_similar(positive=['electron', 'hole'], topn=5):\n",
    "    print(\"   [*] {0:35} \\t ({1})\".format(s[0], s[1]))\n",
    "    \n",
    "print(\"Superconductor + Topological = \")\n",
    "for s in w2v_model.wv.most_similar(positive=['superconductor', 'topological'], topn=5):\n",
    "    print(\"   [*] {0:35} \\t ({1})\".format(s[0], s[1]))\n",
    "    \n",
    "print(\"Spin + Magnetic Field = \")\n",
    "for s in w2v_model.wv.most_similar(positive=['spin', 'magnetic_field'], topn=5):\n",
    "    print(\"   [*] {0:35} \\t ({1})\".format(s[0], s[1]))"
   ]
  }
 ],
 "metadata": {
  "kernelspec": {
   "display_name": "Python 3 (ipykernel)",
   "language": "python",
   "name": "python3"
  },
  "language_info": {
   "codemirror_mode": {
    "name": "ipython",
    "version": 3
   },
   "file_extension": ".py",
   "mimetype": "text/x-python",
   "name": "python",
   "nbconvert_exporter": "python",
   "pygments_lexer": "ipython3",
   "version": "3.9.13"
  }
 },
 "nbformat": 4,
 "nbformat_minor": 5
}
