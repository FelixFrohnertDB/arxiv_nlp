{
 "cells": [
  {
   "cell_type": "code",
   "execution_count": null,
   "id": "b4b06eeb-b7bc-4787-a65f-de3ef301bd4b",
   "metadata": {},
   "outputs": [],
   "source": [
    "import logging\n",
    "import multiprocessing\n",
    "import numpy as np\n",
    "import pandas as pd\n",
    "\n",
    "import torch\n",
    "import torch.nn as nn\n",
    "import torch.optim as optim\n",
    "from torch.utils.data import DataLoader, Dataset\n",
    "from torch.optim.lr_scheduler import CosineAnnealingLR\n",
    "\n",
    "from sklearn.metrics import confusion_matrix, roc_curve, auc, precision_score, mean_squared_error\n",
    "from sklearn.model_selection import train_test_split\n",
    "\n",
    "from gensim.models import Word2Vec\n",
    "from gensim.utils import RULE_DEFAULT, RULE_KEEP\n",
    "from gensim.models.callbacks import CallbackAny2Vec\n",
    "\n",
    "from utils_word import * \n",
    "from utils_ml import * "
   ]
  },
  {
   "cell_type": "markdown",
   "id": "1e9c4487",
   "metadata": {},
   "source": [
    "# baseline based on cos similarity of 2 embeddings"
   ]
  },
  {
   "cell_type": "code",
   "execution_count": 2,
   "id": "3be6ba50",
   "metadata": {},
   "outputs": [],
   "source": [
    "ngram_abstracts = np.load(\"saved_files/ngram_abstracts.npy\", mmap_mode=\"r\")\n",
    "filtered_concept_arr = np.unique(np.load(\"saved_files/overlapping_filtered_5_concepts.npy\"))\n",
    "year_arr = np.load(\"saved_files/year_arr.npy\", mmap_mode=\"r\")"
   ]
  },
  {
   "cell_type": "code",
   "execution_count": 3,
   "id": "ff5fde71",
   "metadata": {},
   "outputs": [
    {
     "name": "stderr",
     "output_type": "stream",
     "text": [
      "100%|██████████| 63633/63633 [00:02<00:00, 29568.09it/s]\n"
     ]
    }
   ],
   "source": [
    "word_co_occurrences = get_word_co_occurrences(filtered_concept_arr, ngram_abstracts, year_arr)"
   ]
  },
  {
   "cell_type": "code",
   "execution_count": 4,
   "id": "3d0d1fdd",
   "metadata": {},
   "outputs": [],
   "source": [
    "load = True  \n",
    "phys_concept_dict = {k: 1 for k in filtered_concept_arr}\n",
    "\n",
    "year_train = 2017 #train_label_years => [2018, 2019, 2020]\n",
    "year_test = 2020 # test_label_years => [2021, 2022, 2023]\n",
    "if not load:\n",
    "    df_ab = pd.DataFrame(data=ngram_abstracts,    # values\n",
    "                columns=[\"ab\"])  # 1st row as the column names\n",
    "    df_ab[\"year\"] = year_arr\n",
    "\n",
    "    # Custom rule function\n",
    "    def custom_rule(word, count, min_count):\n",
    "        if word in phys_concept_dict:\n",
    "            return RULE_KEEP\n",
    "        else:\n",
    "            return RULE_DEFAULT\n",
    "\n",
    "    cores = multiprocessing.cpu_count()\n",
    "\n",
    "    class LossLogger(CallbackAny2Vec):\n",
    "        '''Callback to log loss after each epoch.'''\n",
    "        def __init__(self):\n",
    "            self.epoch = 0\n",
    "            self.losses = []\n",
    "            self.previous_loss = 0\n",
    "            self.initial_loss = 0\n",
    "\n",
    "        def on_epoch_begin(self, model):\n",
    "            # Record the initial loss at the start of each epoch\n",
    "            self.initial_loss = model.get_latest_training_loss()\n",
    "\n",
    "        def on_epoch_end(self, model):\n",
    "            current_loss = model.get_latest_training_loss()\n",
    "            # Calculate the loss for the current epoch\n",
    "            loss = current_loss - self.initial_loss\n",
    "            self.losses.append(loss)\n",
    "            self.initial_loss = current_loss  # Reset for the next epoch\n",
    "            self.epoch += 1\n",
    "\n",
    "    ngram_abstracts_year = [ab.split() for ab in df_ab[df_ab['year'] <= year_train][\"ab\"].to_numpy()]\n",
    "    loss_logger = LossLogger()\n",
    "    w2v_model = Word2Vec(min_count=5,\n",
    "                        window=15,\n",
    "                        vector_size=128,\n",
    "                        sample=1e-4, \n",
    "                        alpha=0.01, \n",
    "                        min_alpha= 0.0001, \n",
    "                        negative=15,\n",
    "                        workers=cores-1)\n",
    "    # Build the vocabulary on the first year's data\n",
    "    w2v_model.build_vocab(ngram_abstracts_year, trim_rule=custom_rule)\n",
    "    w2v_model.train(ngram_abstracts_year, total_examples=w2v_model.corpus_count, epochs=50, compute_loss=True, callbacks=[loss_logger])\n",
    "    w2v_model.save(f\"saved_w2v_models/baseline_train_model_{year_train}.model\")\n",
    "\n",
    "    ngram_abstracts_year = [ab.split() for ab in df_ab[df_ab['year'] <= year_test][\"ab\"].to_numpy()]\n",
    "    loss_logger = LossLogger()\n",
    "    w2v_model = Word2Vec(min_count=5,\n",
    "                        window=15,\n",
    "                        vector_size=128,\n",
    "                        sample=1e-4, \n",
    "                        alpha=0.01, \n",
    "                        min_alpha= 0.0001, \n",
    "                        negative=15,\n",
    "                        workers=cores-1)\n",
    "    # Build the vocabulary on the first year's data\n",
    "    w2v_model.build_vocab(ngram_abstracts_year, trim_rule=custom_rule)\n",
    "    w2v_model.train(ngram_abstracts_year, total_examples=w2v_model.corpus_count, epochs=50, compute_loss=True, callbacks=[loss_logger])\n",
    "    w2v_model.save(f\"saved_w2v_models/baseline_test_model_{year_test}.model\")"
   ]
  },
  {
   "cell_type": "code",
   "execution_count": 5,
   "id": "40065dd2",
   "metadata": {},
   "outputs": [
    {
     "name": "stdout",
     "output_type": "stream",
     "text": [
      "Found 9934 vectors, missed 301 vectors.\n",
      "Found 10172 vectors, missed 63 vectors.\n"
     ]
    }
   ],
   "source": [
    "baseline_1_train_encoding_arr, baseline_1_train_c_arr = get_baseline_1_embeddings(Word2Vec.load(f\"saved_w2v_models/baseline_train_model_{year_train}.model\"),filtered_concept_arr)\n",
    "\n",
    "baseline_1_test_encoding_arr, baseline_1_test_c_arr = get_baseline_1_embeddings(Word2Vec.load(f\"saved_w2v_models/baseline_test_model_{year_test}.model\"),filtered_concept_arr)\n"
   ]
  },
  {
   "cell_type": "code",
   "execution_count": 6,
   "id": "94c59a21",
   "metadata": {},
   "outputs": [
    {
     "name": "stdout",
     "output_type": "stream",
     "text": [
      "Training Window: [2017]\n",
      "Label Window: [2018 2019 2020]\n",
      "Finished Positives\n",
      "Finished Negatives\n",
      "Positive: Expect to be years:  [2018 2019 2020]\n",
      "Negative: Expect to be 0:  0\n",
      "Training Window: [2020]\n",
      "Label Window: [2021 2022 2023]\n",
      "Finished Positives\n",
      "Finished Negatives\n",
      "Positive: Expect to be years:  [2021 2022 2023]\n",
      "Negative: Expect to be 0:  0\n"
     ]
    }
   ],
   "source": [
    "def create_dataset_indexing(data: np.ndarray, word_co_occurrences: dict, year_arr: np.ndarray, c_inx_arr: np.ndarray, \n",
    "                 input_window_size: int = 5, output_window_size: int = 3, offset_to_current_year: int = 1):\n",
    "    \"\"\"\n",
    "    Dataset indexing for time series data.\n",
    "\n",
    "    Args:\n",
    "        data (np.ndarray): The input data.\n",
    "        word_co_occurrences (dict): Dictionary of word co-occurrences.\n",
    "        year_arr (np.ndarray): Array of years.\n",
    "        c_inx_arr (np.ndarray): Array of concept indices.\n",
    "        input_window_size (int, optional): Size of the input window. Defaults to 5.\n",
    "        output_window_size (int, optional): Size of the output window. Defaults to 3.\n",
    "        offset_to_current_year (int, optional): Offset to the current year. Defaults to 1.\n",
    "        print_test (bool, optional): Whether to print test information. Defaults to False.\n",
    "\n",
    "    Returns:\n",
    "        np.ndarray: Positive index pair array.\n",
    "        np.ndarray: Negative index pair array.\n",
    "    \"\"\"\n",
    "    train_window_data = data[:, -input_window_size-output_window_size-offset_to_current_year:-output_window_size-offset_to_current_year]\n",
    "    label_year_range = (year_arr[-output_window_size:] if offset_to_current_year == 0 \n",
    "                                else year_arr[-output_window_size-offset_to_current_year:-offset_to_current_year])\n",
    "\n",
    "    co_occur_concept_pair_arr = get_co_occur_concept_pair_after_year_arr(\n",
    "        word_co_occurrences, label_year_range[0], label_year_range[-1])\n",
    "    \n",
    "    print(f\"Training Window: {get_years_range(year_arr,-input_window_size-output_window_size-offset_to_current_year, -output_window_size-offset_to_current_year)}\")\n",
    "    print(f\"Label Window: {get_years_range(year_arr, -output_window_size-offset_to_current_year, -offset_to_current_year)}\")\n",
    "\n",
    "    # Precompute indices for each unique concept in c_inx_arr\n",
    "    concept_to_indices = {concept: np.where(c_inx_arr == concept)[0] for concept in np.unique(c_inx_arr)}\n",
    "\n",
    "    # Convert word_co_occurrences to a dictionary of sets for fast membership checking\n",
    "    word_co_occurrences_set = {k: set(v) for k, v in word_co_occurrences.items()}\n",
    "\n",
    "    pos_inx_pair_arr = np.zeros((len(co_occur_concept_pair_arr),2), dtype=int)\n",
    "    \n",
    "    for inx, pair in enumerate(co_occur_concept_pair_arr):\n",
    "        try:\n",
    "            pos_inx_pair_arr[inx, 0] = concept_to_indices[pair[0]][0]\n",
    "            pos_inx_pair_arr[inx, 1] = concept_to_indices[pair[1]][0]\n",
    "        except:\n",
    "            pos_inx_pair_arr[inx, 0] = 0\n",
    "            pos_inx_pair_arr[inx, 1] = 0\n",
    "            \n",
    "    \n",
    "    pos_inx_pair_arr = pos_inx_pair_arr[~((pos_inx_pair_arr[:, 0] == 0) & (pos_inx_pair_arr[:, 1] == 0))]\n",
    "\n",
    "\n",
    "    print(\"Finished Positives\")\n",
    "    \n",
    "    neg_inx_pair_arr = np.zeros((len(pos_inx_pair_arr), 2), dtype=int)\n",
    "    checked_pairs = set()\n",
    "    neg_inx = 0\n",
    "\n",
    "    while neg_inx < len(pos_inx_pair_arr):\n",
    "        sampled_pair = tuple(np.random.choice(train_window_data.shape[0], size=2, replace=False))\n",
    "        \n",
    "        # Ensure the sampled pair is not the same and hasn't been checked before\n",
    "        if sampled_pair not in checked_pairs:\n",
    "            checked_pairs.add(sampled_pair)\n",
    "            concept_0, concept_1 = c_inx_arr[sampled_pair[0]], c_inx_arr[sampled_pair[1]]\n",
    "\n",
    "            if concept_1 not in word_co_occurrences_set.get(concept_0, set()):\n",
    "                neg_inx_pair_arr[neg_inx, 0] = concept_to_indices[concept_0][0]\n",
    "                neg_inx_pair_arr[neg_inx, 1] = concept_to_indices[concept_1][0]\n",
    "                neg_inx += 1\n",
    "    print(\"Finished Negatives\")\n",
    "    \n",
    "    save_pos_arr = [word_co_occurrences[c_inx_arr[pos_inx_pair_arr[_][0]]][c_inx_arr[pos_inx_pair_arr[_][1]]] for _ in range(len(pos_inx_pair_arr))]\n",
    "    save_neg_arr = [c_inx_arr[neg_inx_pair_arr[_][1]] in word_co_occurrences[c_inx_arr[neg_inx_pair_arr[_][0]]] for _ in range(len(neg_inx_pair_arr))]\n",
    "\n",
    "    save_pos_arr = [x for xs in save_pos_arr for x in xs]\n",
    "    \n",
    "    print(\"Positive: Expect to be years: \", np.unique(save_pos_arr))\n",
    "    print(\"Negative: Expect to be 0: \", np.sum(save_neg_arr))\n",
    "\n",
    "\n",
    "    return pos_inx_pair_arr, neg_inx_pair_arr\n",
    "\n",
    "\n",
    "seq_length = 1\n",
    "out_length = 3\n",
    "batch_size = 128\n",
    "\n",
    "train_pos_inx_pair_arr_3_3, train_neg_inx_pair_arr_3_3 = create_dataset_indexing(data=baseline_1_train_encoding_arr, word_co_occurrences=word_co_occurrences, year_arr = np.unique(year_arr), \n",
    "                            c_inx_arr=baseline_1_train_c_arr, input_window_size = seq_length, output_window_size = out_length, offset_to_current_year = 3)\n",
    "\n",
    "test_pos_inx_pair_arr_3_0, test_neg_inx_pair_arr_3_0 = create_dataset_indexing(data=baseline_1_test_encoding_arr, word_co_occurrences=word_co_occurrences, year_arr = np.unique(year_arr), \n",
    "                            c_inx_arr=baseline_1_test_c_arr, input_window_size = seq_length, output_window_size = out_length, offset_to_current_year = 0)\n"
   ]
  },
  {
   "cell_type": "code",
   "execution_count": 7,
   "id": "459db792",
   "metadata": {},
   "outputs": [],
   "source": [
    "class CustomBaselineDataset(Dataset):\n",
    "    def __init__(self, train_window_data, pair_arr, labels):\n",
    "        self.train_window_data = train_window_data\n",
    "        self.pair_arr = pair_arr\n",
    "        self.labels = labels\n",
    "        self.shape = self.train_window_data.shape\n",
    "\n",
    "    def __len__(self):\n",
    "        return len(self.pair_arr)\n",
    "\n",
    "    def __getitem__(self, idx):\n",
    "        \n",
    "        inx_0, inx_1 = self.pair_arr[idx]\n",
    "        label = self.labels[idx]\n",
    "        enc_0 = self.train_window_data[inx_0]\n",
    "        enc_1 = self.train_window_data[inx_1]\n",
    "        enc_01 = similarity_cosine(enc_0, enc_1)\n",
    "        \n",
    "        return torch.from_numpy(enc_01), torch.tensor([label], dtype=torch.float32), inx_0, inx_1 \n",
    "\n",
    "def create_train_val_datasets(train_window_data, pos_inx_pair_arr, neg_inx_pair_arr, test_size=0.2, random_state=42):\n",
    "    # Create labels\n",
    "    pos_labels = np.ones(len(pos_inx_pair_arr))\n",
    "    neg_labels = np.zeros(len(neg_inx_pair_arr))\n",
    "    \n",
    "    # Concatenate positive and negative pairs and labels\n",
    "    all_pairs = np.vstack((pos_inx_pair_arr, neg_inx_pair_arr))\n",
    "    all_labels = np.concatenate((pos_labels, neg_labels))\n",
    "    \n",
    "    # Split indices into training and test sets\n",
    "    train_idx, test_idx = train_test_split(\n",
    "        np.arange(len(all_pairs)), test_size=test_size, random_state=random_state, stratify=all_labels\n",
    "    )\n",
    "    \n",
    "    # Create training and test datasets\n",
    "    train_dataset = CustomBaselineDataset(train_window_data, all_pairs[train_idx], all_labels[train_idx])\n",
    "    test_dataset = CustomBaselineDataset(train_window_data, all_pairs[test_idx], all_labels[test_idx])\n",
    "    \n",
    "    return train_dataset, test_dataset\n",
    "\n",
    "def create_test_datasets(train_window_data, pos_inx_pair_arr, neg_inx_pair_arr):\n",
    "    # Create labels\n",
    "    pos_labels = np.ones(len(pos_inx_pair_arr))\n",
    "    neg_labels = np.zeros(len(neg_inx_pair_arr))\n",
    "    \n",
    "    # Concatenate positive and negative pairs and labels\n",
    "    all_pairs = np.vstack((pos_inx_pair_arr, neg_inx_pair_arr))\n",
    "    all_labels = np.concatenate((pos_labels, neg_labels))\n",
    "     \n",
    "    return CustomBaselineDataset(train_window_data, all_pairs, all_labels)\n",
    "\n",
    "train_dataset, val_dataset = create_train_val_datasets(\n",
    "    train_window_data=baseline_1_train_encoding_arr, pos_inx_pair_arr=train_pos_inx_pair_arr_3_3, neg_inx_pair_arr=train_neg_inx_pair_arr_3_3, test_size=0.2)\n",
    "\n",
    "test_dataset = create_test_datasets(\n",
    "    train_window_data=baseline_1_test_encoding_arr, pos_inx_pair_arr=test_pos_inx_pair_arr_3_0, neg_inx_pair_arr=test_neg_inx_pair_arr_3_0)\n",
    "\n",
    "\n",
    "train_dataloader = DataLoader(train_dataset, batch_size=batch_size, shuffle=True)\n",
    "val_dataloader = DataLoader(val_dataset, batch_size=batch_size, shuffle=False)\n",
    "test_dataloader = DataLoader(test_dataset, batch_size=batch_size, shuffle=True)"
   ]
  },
  {
   "cell_type": "code",
   "execution_count": 10,
   "id": "6f203fdb",
   "metadata": {},
   "outputs": [
    {
     "name": "stderr",
     "output_type": "stream",
     "text": [
      "2024-09-05 15:43:34,018 - INFO - Epoch [1/50], Train Loss: 0.6879, Train Accuracy: 53.78%, Val Loss: 0.6865, Val Accuracy: 54.22%\n",
      "2024-09-05 15:43:44,336 - INFO - Epoch [2/50], Train Loss: 0.6875, Train Accuracy: 53.90%, Val Loss: 0.6868, Val Accuracy: 54.01%\n",
      "2024-09-05 15:43:56,989 - INFO - Epoch [3/50], Train Loss: 0.6874, Train Accuracy: 53.90%, Val Loss: 0.6867, Val Accuracy: 54.41%\n",
      "2024-09-05 15:44:06,407 - INFO - Epoch [4/50], Train Loss: 0.6872, Train Accuracy: 54.00%, Val Loss: 0.6868, Val Accuracy: 54.26%\n",
      "2024-09-05 15:44:16,316 - INFO - Epoch [5/50], Train Loss: 0.6871, Train Accuracy: 54.01%, Val Loss: 0.6864, Val Accuracy: 54.24%\n",
      "2024-09-05 15:44:25,702 - INFO - Epoch [6/50], Train Loss: 0.6869, Train Accuracy: 53.99%, Val Loss: 0.6865, Val Accuracy: 54.23%\n",
      "2024-09-05 15:44:34,867 - INFO - Epoch [7/50], Train Loss: 0.6869, Train Accuracy: 54.00%, Val Loss: 0.6867, Val Accuracy: 54.26%\n",
      "2024-09-05 15:44:44,229 - INFO - Epoch [8/50], Train Loss: 0.6869, Train Accuracy: 54.02%, Val Loss: 0.6863, Val Accuracy: 54.25%\n",
      "2024-09-05 15:44:53,714 - INFO - Epoch [9/50], Train Loss: 0.6868, Train Accuracy: 54.02%, Val Loss: 0.6863, Val Accuracy: 54.23%\n",
      "2024-09-05 15:45:03,233 - INFO - Epoch [10/50], Train Loss: 0.6868, Train Accuracy: 54.04%, Val Loss: 0.6863, Val Accuracy: 54.25%\n",
      "2024-09-05 15:45:12,294 - INFO - Epoch [11/50], Train Loss: 0.6868, Train Accuracy: 54.08%, Val Loss: 0.6863, Val Accuracy: 54.30%\n",
      "2024-09-05 15:45:21,890 - INFO - Epoch [12/50], Train Loss: 0.6868, Train Accuracy: 54.09%, Val Loss: 0.6864, Val Accuracy: 54.22%\n",
      "2024-09-05 15:45:31,448 - INFO - Epoch [13/50], Train Loss: 0.6868, Train Accuracy: 54.09%, Val Loss: 0.6864, Val Accuracy: 54.23%\n",
      "2024-09-05 15:45:40,867 - INFO - Epoch [14/50], Train Loss: 0.6868, Train Accuracy: 53.96%, Val Loss: 0.6864, Val Accuracy: 54.22%\n",
      "2024-09-05 15:45:49,945 - INFO - Epoch [15/50], Train Loss: 0.6869, Train Accuracy: 54.01%, Val Loss: 0.6864, Val Accuracy: 54.27%\n",
      "2024-09-05 15:45:59,289 - INFO - Epoch [16/50], Train Loss: 0.6869, Train Accuracy: 54.01%, Val Loss: 0.6864, Val Accuracy: 54.35%\n",
      "2024-09-05 15:46:08,339 - INFO - Epoch [17/50], Train Loss: 0.6870, Train Accuracy: 54.05%, Val Loss: 0.6864, Val Accuracy: 54.23%\n",
      "2024-09-05 15:46:17,373 - INFO - Epoch [18/50], Train Loss: 0.6871, Train Accuracy: 54.04%, Val Loss: 0.6878, Val Accuracy: 54.02%\n",
      "2024-09-05 15:46:17,374 - INFO - Early stopping triggered\n",
      "2024-09-05 15:46:17,374 - INFO - Best model saved with {best_val_loss:.2f} accuracy\n"
     ]
    }
   ],
   "source": [
    "# Initialize logging\n",
    "logging.basicConfig(level=logging.INFO, format='%(asctime)s - %(levelname)s - %(message)s')\n",
    "\n",
    "# Example usage\n",
    "input_dim = 1 \n",
    "model_mlp = MLP(input_dim)\n",
    "\n",
    "\n",
    "criterion = nn.BCELoss()\n",
    "optimizer = optim.Adam(model_mlp.parameters(), lr=0.005)\n",
    "scheduler = CosineAnnealingLR(optimizer, T_max=10)\n",
    "\n",
    "train_model(model_mlp, train_dataloader, val_dataloader, criterion, optimizer, scheduler,file_name='saved_ml_models/best_baseline_1_model.pth')\n"
   ]
  },
  {
   "cell_type": "code",
   "execution_count": 11,
   "id": "d3bb5c1c",
   "metadata": {},
   "outputs": [
    {
     "data": {
      "image/png": "[encoded data removed]",
      "text/plain": [
       "<Figure size 350x300 with 1 Axes>"
      ]
     },
     "metadata": {},
     "output_type": "display_data"
    },
    {
     "name": "stdout",
     "output_type": "stream",
     "text": [
      "saved\n"
     ]
    },
    {
     "data": {
      "text/plain": [
       "0"
      ]
     },
     "execution_count": 11,
     "metadata": {},
     "output_type": "execute_result"
    }
   ],
   "source": [
    "model_mlp.load_state_dict(torch.load('saved_ml_models/best_baseline_1_model.pth'))\n",
    "plot_roc(model_mlp, test_dataloader)\n",
    "compute_roc(model_mlp, test_dataloader, filename=\"baseline_1\")"
   ]
  },
  {
   "cell_type": "code",
   "execution_count": 14,
   "id": "7aebb2a0",
   "metadata": {},
   "outputs": [
    {
     "data": {
      "text/plain": [
       "0.5568131852289683"
      ]
     },
     "execution_count": 14,
     "metadata": {},
     "output_type": "execute_result"
    }
   ],
   "source": [
    "def compute_acc(model, dataloader):\n",
    "    model.eval()\n",
    "    all_labels = []\n",
    "    all_probs = []\n",
    "    correct = 0\n",
    "    total = 0\n",
    "    \n",
    "    with torch.no_grad():\n",
    "        for data, labels, _, _ in dataloader:\n",
    "            outputs = model(data.float())\n",
    "            probs = outputs.cpu().numpy()\n",
    "            predicted = (outputs > 0.5).float()  # Use 0.5 as threshold for binary classification\n",
    "            \n",
    "            total += labels.size(0)\n",
    "            correct += (predicted.cpu() == labels.cpu()).sum().item()\n",
    "            \n",
    "            all_probs.extend(probs)\n",
    "            all_labels.extend(labels.cpu().numpy())\n",
    "\n",
    "    # Calculate accuracy\n",
    "    accuracy = correct / total\n",
    "\n",
    "    return accuracy\n",
    "compute_acc(model_mlp, test_dataloader)"
   ]
  }
 ],
 "metadata": {
  "kernelspec": {
   "display_name": "arxiv_venv",
   "language": "python",
   "name": "python3"
  },
  "language_info": {
   "codemirror_mode": {
    "name": "ipython",
    "version": 3
   },
   "file_extension": ".py",
   "mimetype": "text/x-python",
   "name": "python",
   "nbconvert_exporter": "python",
   "pygments_lexer": "ipython3",
   "version": "3.9.13"
  }
 },
 "nbformat": 4,
 "nbformat_minor": 5
}
