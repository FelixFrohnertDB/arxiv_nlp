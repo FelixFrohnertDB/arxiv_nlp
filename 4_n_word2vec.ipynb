{
 "cells": [
  {
   "cell_type": "code",
   "execution_count": 110,
   "id": "b4b06eeb-b7bc-4787-a65f-de3ef301bd4b",
   "metadata": {},
   "outputs": [],
   "source": [
    "# import openai\n",
    "# import time \n",
    "import matplotlib.pyplot as plt\n",
    "import numpy as np\n",
    "# import json\n",
    "import pandas as pd\n",
    "# import re\n",
    "# %matplotlib inlinew2v_model\n",
    "# from rake_nltk import Rake\n",
    "import multiprocessing\n",
    "from gensim.models.phrases import Phrases, Phraser\n",
    "from gensim.models import Word2Vec\n",
    "# import seaborn as sns\n",
    "# sns.set_style(\"darkgrid\")\n",
    "\n",
    "# from sklearn.decomposition import PCA\n",
    "# from sklearn.manifold import TSNE\n",
    "# import spacy\n",
    "# import gensim\n",
    "# from collections import defaultdict\n",
    "# from tqdm import tqdm\n",
    "from sklearn.manifold import TSNE"
   ]
  },
  {
   "cell_type": "code",
   "execution_count": 111,
   "id": "f6f0e73d-8e47-420b-8987-d654445f49c8",
   "metadata": {},
   "outputs": [],
   "source": [
    "ngram_abstracts = np.load(\"ngram_abstracts.npy\", mmap_mode=\"r\")\n",
    "# \n",
    "concept_arr = np.load(\"overlapping_concepts.npy\")\n",
    "year_arr = np.load(\"year_arr.npy\", mmap_mode=\"r\")\n",
    "month_arr = np.load(\"month_arr.npy\", mmap_mode=\"r\")"
   ]
  },
  {
   "cell_type": "code",
   "execution_count": 112,
   "id": "ba00ece1",
   "metadata": {},
   "outputs": [],
   "source": [
    "df_ab = pd.DataFrame(data=ngram_abstracts,    # values\n",
    "                columns=[\"ab\"])  # 1st row as the column names\n",
    "df_ab[\"year\"] = year_arr\n",
    "df_ab[\"month_arr\"] = month_arr\n"
   ]
  },
  {
   "cell_type": "code",
   "execution_count": 113,
   "id": "f8fad80d",
   "metadata": {},
   "outputs": [],
   "source": [
    "\n",
    "\n",
    "\n",
    "\n",
    "# w2v_model.build_vocab(ngram_abstracts, progress_per=10000,update=True)\n",
    "# w2v_model.train(ngram_abstracts, total_examples=w2v_model.corpus_count, epochs=30, report_delay=1)\n",
    "# vec_1 = w2v_model.wv.get_vector(concept_arr[:,0][0])\n",
    "# w2v_model.save(\"w2v_model_trained_stop_1.model\")\n",
    "\n"
   ]
  },
  {
   "cell_type": "code",
   "execution_count": 114,
   "id": "9f625497",
   "metadata": {},
   "outputs": [],
   "source": [
    "cores = multiprocessing.cpu_count()\n",
    "\n",
    "w2v_model = Word2Vec(min_count=10,\n",
    "                     window=8,\n",
    "                     vector_size=200,\n",
    "                     sample=1e-4, \n",
    "                     alpha=0.01, \n",
    "                     min_alpha= 0.0001, \n",
    "                     negative=15,\n",
    "                     workers=cores-1)\n",
    "\n",
    "w2v_model.build_vocab([ab.split() for ab in df_ab[df_ab['year'] == int(1994)][\"ab\"].to_numpy()])\n",
    "for year in np.unique(year_arr)[1:]:\n",
    "   \n",
    "    ngram_abstracts_year = [ab.split() for ab in df_ab[df_ab['year'] == int(year)][\"ab\"].to_numpy()]\n",
    "\n",
    "    w2v_model.build_vocab(ngram_abstracts_year, progress_per=10000,update=True)\n",
    "    w2v_model.train(ngram_abstracts_year, total_examples=w2v_model.corpus_count, epochs=30, report_delay=1)\n",
    "    w2v_model.save(\"model_year_{}.model\".format(year))\n"
   ]
  },
  {
   "cell_type": "code",
   "execution_count": 129,
   "id": "5d8850ff",
   "metadata": {},
   "outputs": [],
   "source": [
    "from gensim import models\n",
    "concept_encoding_arr = []\n",
    "for year in np.unique(year_arr)[1:]:\n",
    "\n",
    "    loaded_w2v = Word2Vec.load(\"model_year_{}.model\".format(year))\n",
    "    c_dict = {}\n",
    "    for c in concept_arr:\n",
    "        try:\n",
    "            c_dict[c]=loaded_w2v.wv.get_vector(c)\n",
    "        except:\n",
    "            pass\n",
    "    concept_encoding_arr.append(c_dict)\n",
    "concept_encoding_arr = np.array(concept_encoding_arr)"
   ]
  },
  {
   "cell_type": "code",
   "execution_count": null,
   "id": "e495e75d",
   "metadata": {},
   "outputs": [],
   "source": [
    "concept_encoding_arr[0][\"schroding_equation\"]"
   ]
  },
  {
   "cell_type": "code",
   "execution_count": 134,
   "id": "e01ff8f8",
   "metadata": {},
   "outputs": [],
   "source": [
    "track_vec_bell_inequality = np.array([concept_encoding_arr[i][\"bell_inequality\"] for i in range(len(np.unique(year_arr)[1:]))])\n",
    "track_vec_schroding_equation = np.array([concept_encoding_arr[i][\"schroding_equation\"] for i in range(len(np.unique(year_arr)[1:]))])"
   ]
  },
  {
   "cell_type": "code",
   "execution_count": 143,
   "id": "23d89245",
   "metadata": {},
   "outputs": [
    {
     "data": {
      "text/plain": [
       "<matplotlib.collections.PathCollection at 0x7f997ecdeee0>"
      ]
     },
     "execution_count": 143,
     "metadata": {},
     "output_type": "execute_result"
    },
    {
     "data": {
      "image/png": "[encoded data removed]",
      "text/plain": [
       "<Figure size 640x480 with 1 Axes>"
      ]
     },
     "metadata": {},
     "output_type": "display_data"
    }
   ],
   "source": [
    "TSNE_bell_inequality = TSNE(n_components=2, learning_rate='auto',\n",
    "                  init='random', perplexity=3).fit(track_vec_bell_inequality)\n",
    "\n",
    "X_bell_inequality = TSNE_bell_inequality.transform\n",
    "\n",
    "\n",
    "plt.scatter(X_bell_inequality[:,0],X_bell_inequality[:,1],c=np.unique(year_arr)[1:])\n"
   ]
  }
 ],
 "metadata": {
  "kernelspec": {
   "display_name": "Python 3 (ipykernel)",
   "language": "python",
   "name": "python3"
  },
  "language_info": {
   "codemirror_mode": {
    "name": "ipython",
    "version": 3
   },
   "file_extension": ".py",
   "mimetype": "text/x-python",
   "name": "python",
   "nbconvert_exporter": "python",
   "pygments_lexer": "ipython3",
   "version": "3.9.13"
  }
 },
 "nbformat": 4,
 "nbformat_minor": 5
}
