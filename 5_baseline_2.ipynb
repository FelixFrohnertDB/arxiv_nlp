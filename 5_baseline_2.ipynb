{
 "cells": [
  {
   "cell_type": "code",
   "execution_count": null,
   "id": "b4b06eeb-b7bc-4787-a65f-de3ef301bd4b",
   "metadata": {},
   "outputs": [],
   "source": [
    "import numpy as np\n",
    "import torch\n",
    "import torch.nn as nn\n",
    "import torch.optim as optim\n",
    "from torch.utils.data import DataLoader, Dataset\n",
    "from torch.optim.lr_scheduler import CosineAnnealingLR\n",
    "from sklearn.preprocessing import StandardScaler\n",
    "from sklearn.model_selection import train_test_split\n",
    "from typing import List\n",
    "import logging\n",
    "from utils_ml import * \n",
    "from utils_word import *\n",
    "import torch"
   ]
  },
  {
   "cell_type": "markdown",
   "id": "1469d38d",
   "metadata": {},
   "source": [
    "### Method but with static embedding"
   ]
  },
  {
   "cell_type": "code",
   "execution_count": 2,
   "id": "6094b45a",
   "metadata": {},
   "outputs": [
    {
     "name": "stdout",
     "output_type": "stream",
     "text": [
      "Concepts which were tracked (10235,)\n",
      "Abstracts (66839,)\n",
      "Year associated to abstract (66839,)\n"
     ]
    },
    {
     "name": "stderr",
     "output_type": "stream",
     "text": [
      "100%|██████████| 63633/63633 [00:03<00:00, 17822.21it/s]\n"
     ]
    }
   ],
   "source": [
    "ngram_abstracts = np.load(\"saved_files/ngram_abstracts.npy\", mmap_mode=\"r\")\n",
    "filtered_concept_arr = np.unique(np.load(\"saved_files/overlapping_filtered_5_concepts.npy\"))\n",
    "year_arr = np.load(\"saved_files/year_arr.npy\", mmap_mode=\"r\")\n",
    "\n",
    "print(\"Concepts which were tracked\",filtered_concept_arr.shape)\n",
    "print(\"Abstracts\",ngram_abstracts.shape)\n",
    "print(\"Year associated to abstract\",year_arr.shape)\n",
    "\n",
    "word_co_occurrences = get_word_co_occurrences(filtered_concept_arr, ngram_abstracts, year_arr)"
   ]
  },
  {
   "cell_type": "markdown",
   "id": "2d927ce7",
   "metadata": {},
   "source": [
    "### Get Embedding"
   ]
  },
  {
   "cell_type": "code",
   "execution_count": 3,
   "id": "88f4116e",
   "metadata": {},
   "outputs": [
    {
     "name": "stderr",
     "output_type": "stream",
     "text": [
      "Loading models and vectors: 100%|██████████| 30/30 [00:04<00:00,  7.46it/s]\n"
     ]
    },
    {
     "name": "stdout",
     "output_type": "stream",
     "text": [
      "Found 212222 vectors, missed 94828 vectors.\n"
     ]
    },
    {
     "name": "stderr",
     "output_type": "stream",
     "text": [
      "Filling missing years: 100%|██████████| 10235/10235 [00:00<00:00, 284983.01it/s]\n",
      "Preparing encoding array: 100%|██████████| 10235/10235 [00:00<00:00, 19382.21it/s]\n"
     ]
    }
   ],
   "source": [
    "c_inx_arr, c_encoding_arr = get_method_embeddings(filtered_concept_arr, year_arr, load = False, model_type=\"no_time_informed\",save=False)"
   ]
  },
  {
   "cell_type": "markdown",
   "id": "291b26a1",
   "metadata": {},
   "source": [
    "### Create Dataset"
   ]
  },
  {
   "cell_type": "code",
   "execution_count": 5,
   "id": "e34a4010",
   "metadata": {},
   "outputs": [
    {
     "name": "stdout",
     "output_type": "stream",
     "text": [
      "Representation Vectors for tracked concepts (10235, 30, 128)\n",
      "Concept associted with representation (10235,)\n",
      "Training Window: [2017]\n",
      "Label Window: [2018 2019 2020]\n",
      "Finished Positives\n",
      "Finished Negatives\n",
      "Positive: Expect to be years:  [2018 2019 2020]\n",
      "Negative: Expect to be 0:  0\n",
      "Training Window: [2020]\n",
      "Label Window: [2021 2022 2023]\n",
      "Finished Positives\n",
      "Finished Negatives\n",
      "Positive: Expect to be years:  [2021 2022 2023]\n",
      "Negative: Expect to be 0:  0\n"
     ]
    }
   ],
   "source": [
    "def create_dataset_indexing(data: np.ndarray, word_co_occurrences: dict, year_arr: np.ndarray, c_inx_arr: np.ndarray, \n",
    "                 input_window_size: int = 5, output_window_size: int = 3, offset_to_current_year: int = 1, print_test: bool = False, save=True):\n",
    "    \"\"\"\n",
    "    Dataset indexing for time series data.\n",
    "\n",
    "    Args:\n",
    "        data (np.ndarray): The input data.\n",
    "        word_co_occurrences (dict): Dictionary of word co-occurrences.\n",
    "        year_arr (np.ndarray): Array of years.\n",
    "        c_inx_arr (np.ndarray): Array of concept indices.\n",
    "        input_window_size (int, optional): Size of the input window. Defaults to 5.\n",
    "        output_window_size (int, optional): Size of the output window. Defaults to 3.\n",
    "        offset_to_current_year (int, optional): Offset to the current year. Defaults to 1.\n",
    "        print_test (bool, optional): Whether to print test information. Defaults to False.\n",
    "\n",
    "    Returns:\n",
    "        np.ndarray: Positive index pair array.\n",
    "        np.ndarray: Negative index pair array.\n",
    "    \"\"\"\n",
    "    train_window_data = data[:, -input_window_size-output_window_size-offset_to_current_year:-output_window_size-offset_to_current_year]\n",
    "    label_year_range = (year_arr[-output_window_size:] if offset_to_current_year == 0 \n",
    "                                else year_arr[-output_window_size-offset_to_current_year:-offset_to_current_year])\n",
    "\n",
    "    co_occur_concept_pair_arr = get_co_occur_concept_pair_after_year_arr(\n",
    "        word_co_occurrences, label_year_range[0], label_year_range[-1])\n",
    "    \n",
    "    print(f\"Training Window: {get_years_range(year_arr,-input_window_size-output_window_size-offset_to_current_year, -output_window_size-offset_to_current_year)}\")\n",
    "    print(f\"Label Window: {get_years_range(year_arr,-output_window_size-offset_to_current_year, -offset_to_current_year)}\")\n",
    "\n",
    "\n",
    "\n",
    "    # Precompute indices for each unique concept in c_inx_arr\n",
    "    concept_to_indices = {concept: np.where(c_inx_arr == concept)[0] for concept in np.unique(c_inx_arr)}\n",
    "\n",
    "    # Convert word_co_occurrences to a dictionary of sets for fast membership checking\n",
    "    word_co_occurrences_set = {k: set(v) for k, v in word_co_occurrences.items()}\n",
    "\n",
    "    pos_inx_pair_arr = np.zeros((len(co_occur_concept_pair_arr),2), dtype=int)\n",
    "    \n",
    "    for inx, pair in enumerate(co_occur_concept_pair_arr):\n",
    "        pos_inx_pair_arr[inx, 0] = concept_to_indices[pair[0]][0]\n",
    "        pos_inx_pair_arr[inx, 1] = concept_to_indices[pair[1]][0]\n",
    "\n",
    "    print(\"Finished Positives\")\n",
    "\n",
    "    neg_inx_pair_arr = np.zeros((len(co_occur_concept_pair_arr), 2), dtype=int)\n",
    "    checked_pairs = set()\n",
    "    neg_inx = 0\n",
    "\n",
    "    while neg_inx < len(pos_inx_pair_arr):\n",
    "        sampled_pair = tuple(np.random.choice(train_window_data.shape[0], size=2, replace=False))\n",
    "        \n",
    "        # Ensure the sampled pair is not the same and hasn't been checked before\n",
    "        if sampled_pair not in checked_pairs:\n",
    "            checked_pairs.add(sampled_pair)\n",
    "            concept_0, concept_1 = c_inx_arr[sampled_pair[0]], c_inx_arr[sampled_pair[1]]\n",
    "\n",
    "            if concept_1 not in word_co_occurrences_set.get(concept_0, set()):\n",
    "                neg_inx_pair_arr[neg_inx, 0] = concept_to_indices[concept_0][0]\n",
    "                neg_inx_pair_arr[neg_inx, 1] = concept_to_indices[concept_1][0]\n",
    "                neg_inx += 1\n",
    "    print(\"Finished Negatives\")\n",
    "\n",
    "    if print_test:\n",
    "        save_pos_arr = [word_co_occurrences[c_inx_arr[pos_inx_pair_arr[_][0]]][c_inx_arr[pos_inx_pair_arr[_][1]]] for _ in range(len(pos_inx_pair_arr))]\n",
    "        save_neg_arr = [c_inx_arr[neg_inx_pair_arr[_][1]] in word_co_occurrences[c_inx_arr[neg_inx_pair_arr[_][0]]] for _ in range(len(neg_inx_pair_arr))]\n",
    "\n",
    "        save_pos_arr = [x for xs in save_pos_arr for x in xs]\n",
    "        \n",
    "        print(\"Positive: Expect to be years: \", np.unique(save_pos_arr))\n",
    "        print(\"Negative: Expect to be 0: \", np.sum(save_neg_arr))\n",
    "\n",
    "    if save:\n",
    "        np.save(f\"saved_files/train_pos_inx_pair_arr_{input_window_size}_{output_window_size}_{offset_to_current_year}\", pos_inx_pair_arr)\n",
    "        np.save(f\"saved_files/train_neg_inx_pair_arr_{input_window_size}_{output_window_size}_{offset_to_current_year}\", neg_inx_pair_arr)\n",
    "\n",
    "    return pos_inx_pair_arr, neg_inx_pair_arr\n",
    "\n",
    "\n",
    "seq_length = 1\n",
    "out_length = 3\n",
    "batch_size = 128\n",
    "\n",
    "print(\"Representation Vectors for tracked concepts\",c_encoding_arr.shape)\n",
    "print(\"Concept associted with representation\", c_inx_arr.shape)\n",
    "scaler = StandardScaler()\n",
    "reshaped_data = c_encoding_arr.reshape(-1, c_encoding_arr.shape[-1])  \n",
    "normalized_data = scaler.fit_transform(reshaped_data)\n",
    "encoding_data = normalized_data.reshape(c_encoding_arr.shape)\n",
    "\n",
    "load = False \n",
    "if not load:\n",
    "    train_pos_inx_pair_arr_5_3_3, train_neg_inx_pair_arr_5_3_3 = create_dataset_indexing(data=encoding_data, word_co_occurrences=word_co_occurrences, year_arr = np.unique(year_arr), \n",
    "                                c_inx_arr=c_inx_arr, input_window_size = seq_length, output_window_size = out_length, offset_to_current_year = 3, print_test=True,save=False)\n",
    "\n",
    "    train_pos_inx_pair_arr_5_3_0, train_neg_inx_pair_arr_5_3_0 = create_dataset_indexing(data=encoding_data, word_co_occurrences=word_co_occurrences, year_arr = np.unique(year_arr), \n",
    "                                c_inx_arr=c_inx_arr, input_window_size = seq_length, output_window_size = out_length, offset_to_current_year = 0, print_test=True,save=False)\n",
    "    \n",
    "else:\n",
    "    train_pos_inx_pair_arr_5_3_3 = np.load(f\"saved_files/train_pos_inx_pair_arr_{seq_length}_{out_length}_3.npy\")\n",
    "    train_neg_inx_pair_arr_5_3_3 = np.load(f\"saved_files/train_neg_inx_pair_arr_{seq_length}_{out_length}_3.npy\")\n",
    "\n",
    "    train_pos_inx_pair_arr_5_3_0 = np.load(f\"saved_files/train_pos_inx_pair_arr_{seq_length}_{out_length}_0.npy\")\n",
    "    train_neg_inx_pair_arr_5_3_0 = np.load(f\"saved_files/train_neg_inx_pair_arr_{seq_length}_{out_length}_0.npy\")\n"
   ]
  },
  {
   "cell_type": "code",
   "execution_count": 6,
   "id": "90b17828",
   "metadata": {},
   "outputs": [],
   "source": [
    "class CustomPairDataset(Dataset):\n",
    "    def __init__(self, train_window_data, pair_arr, labels, input_window_size, output_window_size, offset_to_current_year):\n",
    "        self.train_window_data = train_window_data[:, -input_window_size-output_window_size-offset_to_current_year:-output_window_size-offset_to_current_year]\n",
    "        self.pair_arr = pair_arr\n",
    "        self.labels = labels\n",
    "        self.shape = self.train_window_data.shape\n",
    "\n",
    "    def __len__(self):\n",
    "        return len(self.pair_arr)\n",
    "\n",
    "    def __getitem__(self, idx):\n",
    "        inx_0, inx_1 = self.pair_arr[idx]\n",
    "        label = self.labels[idx]\n",
    "        enc_0 = self.train_window_data[inx_0]\n",
    "        enc_1 = self.train_window_data[inx_1]\n",
    "        enc_01 = np.concatenate((enc_0, enc_1), axis=-1)\n",
    "        return torch.from_numpy(enc_01), torch.tensor([label], dtype=torch.float32), inx_0, inx_1 \n",
    "\n",
    "def create_train_val_datasets(train_window_data, pos_inx_pair_arr, neg_inx_pair_arr, input_window_size, output_window_size, offset_to_current_year, test_size=0.2, random_state=42):\n",
    "    # Create labels\n",
    "    pos_labels = np.ones(len(pos_inx_pair_arr))\n",
    "    neg_labels = np.zeros(len(neg_inx_pair_arr))\n",
    "    \n",
    "    # Concatenate positive and negative pairs and labels\n",
    "    all_pairs = np.vstack((pos_inx_pair_arr, neg_inx_pair_arr))\n",
    "    all_labels = np.concatenate((pos_labels, neg_labels))\n",
    "    \n",
    "    # Split indices into training and test sets\n",
    "    train_idx, test_idx = train_test_split(\n",
    "        np.arange(len(all_pairs)), test_size=test_size, random_state=random_state, stratify=all_labels\n",
    "    )\n",
    "    \n",
    "    # Create training and test datasets\n",
    "    train_dataset = CustomPairDataset(train_window_data, all_pairs[train_idx], all_labels[train_idx], input_window_size, output_window_size, offset_to_current_year)\n",
    "    test_dataset = CustomPairDataset(train_window_data, all_pairs[test_idx], all_labels[test_idx], input_window_size, output_window_size, offset_to_current_year)\n",
    "    \n",
    "    return train_dataset, test_dataset\n",
    "\n",
    "def create_test_datasets(train_window_data, pos_inx_pair_arr, neg_inx_pair_arr, input_window_size, output_window_size, offset_to_current_year):\n",
    "    # Create labels\n",
    "    pos_labels = np.ones(len(pos_inx_pair_arr))\n",
    "    neg_labels = np.zeros(len(neg_inx_pair_arr))\n",
    "    \n",
    "    # Concatenate positive and negative pairs and labels\n",
    "    all_pairs = np.vstack((pos_inx_pair_arr, neg_inx_pair_arr))\n",
    "    all_labels = np.concatenate((pos_labels, neg_labels))\n",
    "     \n",
    "    return CustomPairDataset(train_window_data, all_pairs, all_labels, input_window_size, output_window_size, offset_to_current_year)\n",
    "\n",
    "train_dataset, val_dataset = create_train_val_datasets(\n",
    "    train_window_data=encoding_data, pos_inx_pair_arr=train_pos_inx_pair_arr_5_3_3, neg_inx_pair_arr=train_neg_inx_pair_arr_5_3_3, \n",
    "    input_window_size=seq_length, output_window_size=out_length, offset_to_current_year = 3, test_size=0.2)\n",
    "\n",
    "test_dataset = create_test_datasets(\n",
    "    train_window_data=encoding_data, pos_inx_pair_arr=train_pos_inx_pair_arr_5_3_0, neg_inx_pair_arr=train_neg_inx_pair_arr_5_3_0, \n",
    "    input_window_size=seq_length, output_window_size=out_length, offset_to_current_year = 0)\n",
    "\n",
    "\n",
    "train_dataloader = DataLoader(train_dataset, batch_size=batch_size, shuffle=True)\n",
    "val_dataloader = DataLoader(val_dataset, batch_size=batch_size, shuffle=False)\n",
    "test_dataloader = DataLoader(test_dataset, batch_size=batch_size, shuffle=True)"
   ]
  },
  {
   "cell_type": "code",
   "execution_count": null,
   "id": "26e02f9c",
   "metadata": {},
   "outputs": [
    {
     "name": "stdout",
     "output_type": "stream",
     "text": [
      "Training Window: [2017]\n",
      "Label Window: [2018 2019 2020]\n",
      "Testing Window: [2020]\n",
      "Label Window: [2021 2022 2023]\n"
     ]
    }
   ],
   "source": [
    "input_window_size = 1\n",
    "output_window_size = 3\n",
    "offset_to_current_year = 3\n",
    "\n",
    "print(f\"Training Window: {get_years_range(year_arr,-input_window_size-output_window_size-offset_to_current_year, -output_window_size-offset_to_current_year)}\")\n",
    "print(f\"Label Window: {get_years_range(year_arr,-output_window_size-offset_to_current_year, -offset_to_current_year)}\")\n",
    "\n",
    "offset_to_current_year = 0\n",
    "\n",
    "print(f\"Testing Window: {get_years_range(year_arr,-input_window_size-output_window_size-offset_to_current_year, -output_window_size-offset_to_current_year)}\")\n",
    "print(f\"Label Window: {get_years_range(year_arr,-output_window_size-offset_to_current_year, -offset_to_current_year)}\")"
   ]
  },
  {
   "cell_type": "code",
   "execution_count": null,
   "id": "6697f6f1",
   "metadata": {},
   "outputs": [
    {
     "name": "stderr",
     "output_type": "stream",
     "text": [
      "2024-10-31 08:57:25,922 - INFO - Epoch [1/50], Train Loss: 0.4770, Train Accuracy: 78.28%, Val Loss: 0.4521, Val Accuracy: 79.47%\n",
      "2024-10-31 08:57:40,549 - INFO - Epoch [2/50], Train Loss: 0.4508, Train Accuracy: 79.66%, Val Loss: 0.4370, Val Accuracy: 80.22%\n",
      "2024-10-31 08:57:54,000 - INFO - Epoch [3/50], Train Loss: 0.4394, Train Accuracy: 80.15%, Val Loss: 0.4324, Val Accuracy: 80.13%\n",
      "2024-10-31 08:58:08,730 - INFO - Epoch [4/50], Train Loss: 0.4315, Train Accuracy: 80.51%, Val Loss: 0.4287, Val Accuracy: 80.39%\n",
      "2024-10-31 08:58:24,815 - INFO - Epoch [5/50], Train Loss: 0.4233, Train Accuracy: 80.91%, Val Loss: 0.4246, Val Accuracy: 80.80%\n",
      "2024-10-31 08:58:44,927 - INFO - Epoch [6/50], Train Loss: 0.4169, Train Accuracy: 81.20%, Val Loss: 0.4219, Val Accuracy: 80.75%\n",
      "2024-10-31 08:59:02,787 - INFO - Epoch [7/50], Train Loss: 0.4109, Train Accuracy: 81.52%, Val Loss: 0.4205, Val Accuracy: 80.94%\n",
      "2024-10-31 08:59:15,380 - INFO - Epoch [8/50], Train Loss: 0.4054, Train Accuracy: 81.87%, Val Loss: 0.4202, Val Accuracy: 81.02%\n",
      "2024-10-31 08:59:27,982 - INFO - Epoch [9/50], Train Loss: 0.4015, Train Accuracy: 82.02%, Val Loss: 0.4212, Val Accuracy: 81.02%\n",
      "2024-10-31 08:59:47,926 - INFO - Epoch [10/50], Train Loss: 0.3981, Train Accuracy: 82.18%, Val Loss: 0.4188, Val Accuracy: 81.08%\n",
      "2024-10-31 09:00:08,350 - INFO - Epoch [11/50], Train Loss: 0.3978, Train Accuracy: 82.16%, Val Loss: 0.4179, Val Accuracy: 81.13%\n",
      "2024-10-31 09:00:21,330 - INFO - Epoch [12/50], Train Loss: 0.3978, Train Accuracy: 82.20%, Val Loss: 0.4184, Val Accuracy: 81.15%\n",
      "2024-10-31 09:00:34,883 - INFO - Epoch [13/50], Train Loss: 0.3995, Train Accuracy: 82.04%, Val Loss: 0.4188, Val Accuracy: 81.08%\n",
      "2024-10-31 09:00:48,182 - INFO - Epoch [14/50], Train Loss: 0.4025, Train Accuracy: 81.90%, Val Loss: 0.4184, Val Accuracy: 81.09%\n",
      "2024-10-31 09:01:00,997 - INFO - Epoch [15/50], Train Loss: 0.4057, Train Accuracy: 81.75%, Val Loss: 0.4201, Val Accuracy: 80.90%\n",
      "2024-10-31 09:01:14,266 - INFO - Epoch [16/50], Train Loss: 0.4075, Train Accuracy: 81.69%, Val Loss: 0.4198, Val Accuracy: 80.99%\n",
      "2024-10-31 09:01:28,824 - INFO - Epoch [17/50], Train Loss: 0.4100, Train Accuracy: 81.52%, Val Loss: 0.4299, Val Accuracy: 80.72%\n",
      "2024-10-31 09:01:42,760 - INFO - Epoch [18/50], Train Loss: 0.4115, Train Accuracy: 81.40%, Val Loss: 0.4212, Val Accuracy: 80.88%\n",
      "2024-10-31 09:01:42,762 - INFO - Early stopping triggered\n",
      "2024-10-31 09:01:42,762 - INFO - Best model saved with {best_val_loss:.2f} accuracy\n"
     ]
    }
   ],
   "source": [
    "# Initialize logging\n",
    "logging.basicConfig(level=logging.INFO, format='%(asctime)s - %(levelname)s - %(message)s')\n",
    "\n",
    "# Example usage\n",
    "input_dim = train_dataset.train_window_data.shape[1] * train_dataset.train_window_data.shape[2] * 2  \n",
    "model_mlp = MLP(input_dim)\n",
    "\n",
    "criterion = nn.BCELoss()\n",
    "optimizer = optim.Adam(model_mlp.parameters(), lr=0.005)\n",
    "scheduler = CosineAnnealingLR(optimizer,T_max=10)\n",
    "\n",
    "train_model(model_mlp, train_dataloader, val_dataloader, criterion, optimizer, scheduler, file_name='saved_ml_models/baseline_2_model.pth')"
   ]
  },
  {
   "cell_type": "code",
   "execution_count": 9,
   "id": "c1e5fbf3",
   "metadata": {},
   "outputs": [
    {
     "data": {
      "image/png": "[encoded data removed]",
      "text/plain": [
       "<Figure size 350x300 with 1 Axes>"
      ]
     },
     "metadata": {},
     "output_type": "display_data"
    },
    {
     "name": "stdout",
     "output_type": "stream",
     "text": [
      "saved\n"
     ]
    },
    {
     "data": {
      "text/plain": [
       "0"
      ]
     },
     "execution_count": 9,
     "metadata": {},
     "output_type": "execute_result"
    }
   ],
   "source": [
    "model_mlp.load_state_dict(torch.load('saved_ml_models/baseline_2_model.pth'))\n",
    "plot_roc(model_mlp, test_dataloader)\n",
    "compute_roc(model_mlp, test_dataloader, filename=\"baseline_2\")"
   ]
  }
 ],
 "metadata": {
  "kernelspec": {
   "display_name": "arxiv_venv",
   "language": "python",
   "name": "python3"
  },
  "language_info": {
   "codemirror_mode": {
    "name": "ipython",
    "version": 3
   },
   "file_extension": ".py",
   "mimetype": "text/x-python",
   "name": "python",
   "nbconvert_exporter": "python",
   "pygments_lexer": "ipython3",
   "version": "3.9.13"
  }
 },
 "nbformat": 4,
 "nbformat_minor": 5
}
