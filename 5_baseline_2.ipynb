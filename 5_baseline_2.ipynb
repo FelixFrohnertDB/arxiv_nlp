{
 "cells": [
  {
   "cell_type": "code",
   "execution_count": 1,
   "id": "b4b06eeb-b7bc-4787-a65f-de3ef301bd4b",
   "metadata": {},
   "outputs": [],
   "source": [
    "# import re\n",
    "# import logging\n",
    "# import numpy as np\n",
    "# from tqdm import tqdm\n",
    "\n",
    "import torch\n",
    "import torch.nn as nn\n",
    "import torch.optim as optim\n",
    "from torch.utils.data import DataLoader, Dataset\n",
    "from torch.optim.lr_scheduler import CosineAnnealingLR\n",
    "\n",
    "from sklearn.preprocessing import StandardScaler\n",
    "# from sklearn.metrics import confusion_matrix, roc_curve, auc, precision_score, mean_squared_error\n",
    "from sklearn.model_selection import train_test_split\n",
    "\n",
    "\n",
    "# from gensim.models import Word2Vec\n",
    "# from gensim.utils import RULE_DEFAULT, RULE_KEEP\n",
    "# from gensim.models.callbacks import CallbackAny2Vec\n",
    "# from gensim.models import KeyedVectors\n",
    "\n",
    "from utils_word import * \n",
    "from utils_ml import * \n"
   ]
  },
  {
   "cell_type": "code",
   "execution_count": 2,
   "id": "3be6ba50",
   "metadata": {},
   "outputs": [],
   "source": [
    "ngram_abstracts = np.load(\"saved_files/ngram_abstracts.npy\", mmap_mode=\"r\")\n",
    "filtered_concept_arr = np.unique(np.load(\"saved_files/overlapping_filtered_5_concepts.npy\"))\n",
    "year_arr = np.load(\"saved_files/year_arr.npy\", mmap_mode=\"r\")"
   ]
  },
  {
   "cell_type": "code",
   "execution_count": 3,
   "id": "ff5fde71",
   "metadata": {},
   "outputs": [
    {
     "name": "stderr",
     "output_type": "stream",
     "text": [
      "100%|██████████| 63633/63633 [00:02<00:00, 23555.38it/s]\n"
     ]
    }
   ],
   "source": [
    "word_co_occurrences = get_word_co_occurrences(filtered_concept_arr, ngram_abstracts, year_arr)"
   ]
  },
  {
   "cell_type": "code",
   "execution_count": 4,
   "id": "40065dd2",
   "metadata": {},
   "outputs": [
    {
     "name": "stdout",
     "output_type": "stream",
     "text": [
      "Found 9934 vectors, missed 301 vectors.\n",
      "Found 10172 vectors, missed 63 vectors.\n"
     ]
    }
   ],
   "source": [
    "year_train = 2017 #train_label_years => [2018, 2019, 2020]\n",
    "year_test = 2020 # test_label_years => [2021, 2022, 2023]\n",
    "\n",
    "baseline_1_train_encoding_arr, baseline_1_train_c_arr = get_baseline_1_embeddings(Word2Vec.load(f\"saved_w2v_models/baseline_train_model_{year_train}.model\"),filtered_concept_arr)\n",
    "\n",
    "baseline_1_test_encoding_arr, baseline_1_test_c_arr = get_baseline_1_embeddings(Word2Vec.load(f\"saved_w2v_models/baseline_test_model_{year_test}.model\"),filtered_concept_arr)\n"
   ]
  },
  {
   "cell_type": "code",
   "execution_count": 5,
   "id": "94c59a21",
   "metadata": {},
   "outputs": [
    {
     "name": "stdout",
     "output_type": "stream",
     "text": [
      "Training Window: [2017]\n",
      "Label Window: [2018 2019 2020]\n",
      "Finished Positives\n",
      "Finished Negatives\n",
      "Positive: Expect to be years:  [2018 2019 2020]\n",
      "Negative: Expect to be 0:  0\n",
      "Training Window: [2020]\n",
      "Label Window: [2021 2022 2023]\n",
      "Finished Positives\n",
      "Finished Negatives\n",
      "Positive: Expect to be years:  [2021 2022 2023]\n",
      "Negative: Expect to be 0:  0\n"
     ]
    }
   ],
   "source": [
    "def create_dataset_indexing(data: np.ndarray, word_co_occurrences: dict, year_arr: np.ndarray, c_inx_arr: np.ndarray, \n",
    "                 input_window_size: int = 5, output_window_size: int = 3, offset_to_current_year: int = 1):\n",
    "    \"\"\"\n",
    "    Dataset indexing for time series data.\n",
    "\n",
    "    Args:\n",
    "        data (np.ndarray): The input data.\n",
    "        word_co_occurrences (dict): Dictionary of word co-occurrences.\n",
    "        year_arr (np.ndarray): Array of years.\n",
    "        c_inx_arr (np.ndarray): Array of concept indices.\n",
    "        input_window_size (int, optional): Size of the input window. Defaults to 5.\n",
    "        output_window_size (int, optional): Size of the output window. Defaults to 3.\n",
    "        offset_to_current_year (int, optional): Offset to the current year. Defaults to 1.\n",
    "        print_test (bool, optional): Whether to print test information. Defaults to False.\n",
    "\n",
    "    Returns:\n",
    "        np.ndarray: Positive index pair array.\n",
    "        np.ndarray: Negative index pair array.\n",
    "    \"\"\"\n",
    "    train_window_data = data[:, -input_window_size-output_window_size-offset_to_current_year:-output_window_size-offset_to_current_year]\n",
    "    label_year_range = (year_arr[-output_window_size:] if offset_to_current_year == 0 \n",
    "                                else year_arr[-output_window_size-offset_to_current_year:-offset_to_current_year])\n",
    "\n",
    "    co_occur_concept_pair_arr = get_co_occur_concept_pair_after_year_arr(\n",
    "        word_co_occurrences, label_year_range[0], label_year_range[-1])\n",
    "    \n",
    "    print(f\"Training Window: {get_years_range(year_arr,-input_window_size-output_window_size-offset_to_current_year, -output_window_size-offset_to_current_year)}\")\n",
    "    print(f\"Label Window: {get_years_range(year_arr,-output_window_size-offset_to_current_year, -offset_to_current_year)}\")\n",
    "\n",
    "    # Precompute indices for each unique concept in c_inx_arr\n",
    "    concept_to_indices = {concept: np.where(c_inx_arr == concept)[0] for concept in np.unique(c_inx_arr)}\n",
    "\n",
    "    # Convert word_co_occurrences to a dictionary of sets for fast membership checking\n",
    "    word_co_occurrences_set = {k: set(v) for k, v in word_co_occurrences.items()}\n",
    "\n",
    "    pos_inx_pair_arr = np.zeros((len(co_occur_concept_pair_arr),2), dtype=int)\n",
    "    \n",
    "    for inx, pair in enumerate(co_occur_concept_pair_arr):\n",
    "        try:\n",
    "            pos_inx_pair_arr[inx, 0] = concept_to_indices[pair[0]][0]\n",
    "            pos_inx_pair_arr[inx, 1] = concept_to_indices[pair[1]][0]\n",
    "        except:\n",
    "            pos_inx_pair_arr[inx, 0] = 0\n",
    "            pos_inx_pair_arr[inx, 1] = 0\n",
    "            \n",
    "    \n",
    "    pos_inx_pair_arr = pos_inx_pair_arr[~((pos_inx_pair_arr[:, 0] == 0) & (pos_inx_pair_arr[:, 1] == 0))]\n",
    "\n",
    "\n",
    "    print(\"Finished Positives\")\n",
    "    \n",
    "    neg_inx_pair_arr = np.zeros((len(pos_inx_pair_arr), 2), dtype=int)\n",
    "    checked_pairs = set()\n",
    "    neg_inx = 0\n",
    "\n",
    "    while neg_inx < len(pos_inx_pair_arr):\n",
    "        sampled_pair = tuple(np.random.choice(train_window_data.shape[0], size=2, replace=False))\n",
    "        \n",
    "        # Ensure the sampled pair is not the same and hasn't been checked before\n",
    "        if sampled_pair not in checked_pairs:\n",
    "            checked_pairs.add(sampled_pair)\n",
    "            concept_0, concept_1 = c_inx_arr[sampled_pair[0]], c_inx_arr[sampled_pair[1]]\n",
    "\n",
    "            if concept_1 not in word_co_occurrences_set.get(concept_0, set()):\n",
    "                neg_inx_pair_arr[neg_inx, 0] = concept_to_indices[concept_0][0]\n",
    "                neg_inx_pair_arr[neg_inx, 1] = concept_to_indices[concept_1][0]\n",
    "                neg_inx += 1\n",
    "    print(\"Finished Negatives\")\n",
    "    \n",
    "    save_pos_arr = [word_co_occurrences[c_inx_arr[pos_inx_pair_arr[_][0]]][c_inx_arr[pos_inx_pair_arr[_][1]]] for _ in range(len(pos_inx_pair_arr))]\n",
    "    save_neg_arr = [c_inx_arr[neg_inx_pair_arr[_][1]] in word_co_occurrences[c_inx_arr[neg_inx_pair_arr[_][0]]] for _ in range(len(neg_inx_pair_arr))]\n",
    "\n",
    "    save_pos_arr = [x for xs in save_pos_arr for x in xs]\n",
    "    \n",
    "    print(\"Positive: Expect to be years: \", np.unique(save_pos_arr))\n",
    "    print(\"Negative: Expect to be 0: \", np.sum(save_neg_arr))\n",
    "\n",
    "\n",
    "    return pos_inx_pair_arr, neg_inx_pair_arr\n",
    "\n",
    "\n",
    "seq_length = 1\n",
    "out_length = 3\n",
    "batch_size = 128\n",
    "\n",
    "scaler = StandardScaler()\n",
    "reshaped_data = baseline_1_train_encoding_arr.reshape(-1, baseline_1_train_encoding_arr.shape[-1])  \n",
    "normalized_data = scaler.fit_transform(reshaped_data)\n",
    "baseline_1_train_encoding_arr = normalized_data.reshape(baseline_1_train_encoding_arr.shape)\n",
    "\n",
    "reshaped_data = baseline_1_test_encoding_arr.reshape(-1, baseline_1_test_encoding_arr.shape[-1])  \n",
    "normalized_data = scaler.transform(reshaped_data)\n",
    "baseline_1_test_encoding_arr = normalized_data.reshape(baseline_1_test_encoding_arr.shape)\n",
    "\n",
    "\n",
    "train_pos_inx_pair_arr_3_3, train_neg_inx_pair_arr_3_3 = create_dataset_indexing(data=baseline_1_train_encoding_arr, word_co_occurrences=word_co_occurrences, year_arr = np.unique(year_arr), \n",
    "                            c_inx_arr=baseline_1_train_c_arr, input_window_size = seq_length, output_window_size = out_length, offset_to_current_year = 3)\n",
    "\n",
    "test_pos_inx_pair_arr_3_0, test_neg_inx_pair_arr_3_0 = create_dataset_indexing(data=baseline_1_test_encoding_arr, word_co_occurrences=word_co_occurrences, year_arr = np.unique(year_arr), \n",
    "                            c_inx_arr=baseline_1_test_c_arr, input_window_size = seq_length, output_window_size = out_length, offset_to_current_year = 0)\n"
   ]
  },
  {
   "cell_type": "code",
   "execution_count": 6,
   "id": "459db792",
   "metadata": {},
   "outputs": [],
   "source": [
    "class CustomBaselineDataset(Dataset):\n",
    "    def __init__(self, train_window_data, pair_arr, labels):\n",
    "        self.train_window_data = train_window_data\n",
    "        self.pair_arr = pair_arr\n",
    "        self.labels = labels\n",
    "        self.shape = self.train_window_data.shape\n",
    "\n",
    "    def __len__(self):\n",
    "        return len(self.pair_arr)\n",
    "\n",
    "    def __getitem__(self, idx):\n",
    "        \n",
    "        inx_0, inx_1 = self.pair_arr[idx]\n",
    "        label = self.labels[idx]\n",
    "        enc_0 = self.train_window_data[inx_0]\n",
    "        enc_1 = self.train_window_data[inx_1]\n",
    "        enc_01 = np.concatenate((enc_0, enc_1), axis=-1)\n",
    "        \n",
    "        return torch.from_numpy(enc_01), torch.tensor([label], dtype=torch.float32), inx_0, inx_1 \n",
    "\n",
    "def create_train_val_datasets(train_window_data, pos_inx_pair_arr, neg_inx_pair_arr, test_size=0.2, random_state=42):\n",
    "    # Create labels\n",
    "    pos_labels = np.ones(len(pos_inx_pair_arr))\n",
    "    neg_labels = np.zeros(len(neg_inx_pair_arr))\n",
    "    \n",
    "    # Concatenate positive and negative pairs and labels\n",
    "    all_pairs = np.vstack((pos_inx_pair_arr, neg_inx_pair_arr))\n",
    "    all_labels = np.concatenate((pos_labels, neg_labels))\n",
    "    \n",
    "    # Split indices into training and test sets\n",
    "    train_idx, test_idx = train_test_split(\n",
    "        np.arange(len(all_pairs)), test_size=test_size, random_state=random_state, stratify=all_labels\n",
    "    )\n",
    "    \n",
    "    # Create training and test datasets\n",
    "    train_dataset = CustomBaselineDataset(train_window_data, all_pairs[train_idx], all_labels[train_idx])\n",
    "    test_dataset = CustomBaselineDataset(train_window_data, all_pairs[test_idx], all_labels[test_idx])\n",
    "    \n",
    "    return train_dataset, test_dataset\n",
    "\n",
    "def create_test_datasets(train_window_data, pos_inx_pair_arr, neg_inx_pair_arr):\n",
    "    # Create labels\n",
    "    pos_labels = np.ones(len(pos_inx_pair_arr))\n",
    "    neg_labels = np.zeros(len(neg_inx_pair_arr))\n",
    "    \n",
    "    # Concatenate positive and negative pairs and labels\n",
    "    all_pairs = np.vstack((pos_inx_pair_arr, neg_inx_pair_arr))\n",
    "    all_labels = np.concatenate((pos_labels, neg_labels))\n",
    "     \n",
    "    return CustomBaselineDataset(train_window_data, all_pairs, all_labels)\n",
    "\n",
    "train_dataset, val_dataset = create_train_val_datasets(\n",
    "    train_window_data=baseline_1_train_encoding_arr, pos_inx_pair_arr=train_pos_inx_pair_arr_3_3, neg_inx_pair_arr=train_neg_inx_pair_arr_3_3, test_size=0.2)\n",
    "\n",
    "test_dataset = create_test_datasets(\n",
    "    train_window_data=baseline_1_test_encoding_arr, pos_inx_pair_arr=test_pos_inx_pair_arr_3_0, neg_inx_pair_arr=test_neg_inx_pair_arr_3_0)\n",
    "\n",
    "\n",
    "train_dataloader = DataLoader(train_dataset, batch_size=batch_size, shuffle=True)\n",
    "val_dataloader = DataLoader(val_dataset, batch_size=batch_size, shuffle=False)\n",
    "test_dataloader = DataLoader(test_dataset, batch_size=batch_size, shuffle=True)"
   ]
  },
  {
   "cell_type": "code",
   "execution_count": 7,
   "id": "6f203fdb",
   "metadata": {},
   "outputs": [
    {
     "name": "stderr",
     "output_type": "stream",
     "text": [
      "2024-08-06 15:45:11,121 - INFO - Epoch [1/50], Train Loss: 0.4751, Train Accuracy: 78.23%, Val Loss: 0.4543, Val Accuracy: 79.53%\n",
      "2024-08-06 15:45:25,750 - INFO - Epoch [2/50], Train Loss: 0.4543, Train Accuracy: 79.35%, Val Loss: 0.4444, Val Accuracy: 80.29%\n",
      "2024-08-06 15:45:39,114 - INFO - Epoch [3/50], Train Loss: 0.4462, Train Accuracy: 79.83%, Val Loss: 0.4364, Val Accuracy: 80.50%\n",
      "2024-08-06 15:45:52,783 - INFO - Epoch [4/50], Train Loss: 0.4409, Train Accuracy: 80.14%, Val Loss: 0.4354, Val Accuracy: 80.64%\n",
      "2024-08-06 15:46:06,295 - INFO - Epoch [5/50], Train Loss: 0.4349, Train Accuracy: 80.45%, Val Loss: 0.4313, Val Accuracy: 80.83%\n",
      "2024-08-06 15:46:19,345 - INFO - Epoch [6/50], Train Loss: 0.4293, Train Accuracy: 80.77%, Val Loss: 0.4266, Val Accuracy: 80.93%\n",
      "2024-08-06 15:46:32,083 - INFO - Epoch [7/50], Train Loss: 0.4245, Train Accuracy: 80.90%, Val Loss: 0.4233, Val Accuracy: 81.03%\n",
      "2024-08-06 15:46:44,749 - INFO - Epoch [8/50], Train Loss: 0.4197, Train Accuracy: 81.17%, Val Loss: 0.4215, Val Accuracy: 81.12%\n",
      "2024-08-06 15:46:57,388 - INFO - Epoch [9/50], Train Loss: 0.4162, Train Accuracy: 81.35%, Val Loss: 0.4204, Val Accuracy: 81.16%\n",
      "2024-08-06 15:47:10,042 - INFO - Epoch [10/50], Train Loss: 0.4146, Train Accuracy: 81.46%, Val Loss: 0.4197, Val Accuracy: 81.18%\n",
      "2024-08-06 15:47:22,653 - INFO - Epoch [11/50], Train Loss: 0.4143, Train Accuracy: 81.46%, Val Loss: 0.4199, Val Accuracy: 81.21%\n",
      "2024-08-06 15:47:35,206 - INFO - Epoch [12/50], Train Loss: 0.4139, Train Accuracy: 81.49%, Val Loss: 0.4195, Val Accuracy: 81.24%\n",
      "2024-08-06 15:47:47,715 - INFO - Epoch [13/50], Train Loss: 0.4148, Train Accuracy: 81.49%, Val Loss: 0.4193, Val Accuracy: 81.25%\n",
      "2024-08-06 15:48:00,395 - INFO - Epoch [14/50], Train Loss: 0.4157, Train Accuracy: 81.39%, Val Loss: 0.4208, Val Accuracy: 81.27%\n",
      "2024-08-06 15:48:13,099 - INFO - Epoch [15/50], Train Loss: 0.4180, Train Accuracy: 81.25%, Val Loss: 0.4207, Val Accuracy: 81.11%\n",
      "2024-08-06 15:48:25,824 - INFO - Epoch [16/50], Train Loss: 0.4194, Train Accuracy: 81.22%, Val Loss: 0.4211, Val Accuracy: 81.16%\n",
      "2024-08-06 15:48:38,659 - INFO - Epoch [17/50], Train Loss: 0.4216, Train Accuracy: 81.13%, Val Loss: 0.4205, Val Accuracy: 81.15%\n",
      "2024-08-06 15:48:52,177 - INFO - Epoch [18/50], Train Loss: 0.4224, Train Accuracy: 81.04%, Val Loss: 0.4221, Val Accuracy: 80.98%\n",
      "2024-08-06 15:49:05,335 - INFO - Epoch [19/50], Train Loss: 0.4227, Train Accuracy: 81.00%, Val Loss: 0.4232, Val Accuracy: 81.06%\n",
      "2024-08-06 15:49:18,622 - INFO - Epoch [20/50], Train Loss: 0.4223, Train Accuracy: 81.01%, Val Loss: 0.4217, Val Accuracy: 80.92%\n",
      "2024-08-06 15:49:18,623 - INFO - Early stopping triggered\n",
      "2024-08-06 15:49:18,623 - INFO - Best model saved with {best_val_loss:.2f} accuracy\n"
     ]
    }
   ],
   "source": [
    "# Initialize logging\n",
    "logging.basicConfig(level=logging.INFO, format='%(asctime)s - %(levelname)s - %(message)s')\n",
    "\n",
    "# Example usage\n",
    "input_dim = train_dataset.train_window_data.shape[1]  * 2   \n",
    "model_mlp = MLP(input_dim)\n",
    "\n",
    "criterion = nn.BCELoss()\n",
    "optimizer = optim.Adam(model_mlp.parameters(), lr=0.005)\n",
    "scheduler = CosineAnnealingLR(optimizer, T_max=10)\n",
    "\n",
    "train_model(model_mlp, train_dataloader, val_dataloader, criterion, optimizer, scheduler,file_name='saved_ml_models/best_baseline_2_model.pth')"
   ]
  },
  {
   "cell_type": "code",
   "execution_count": 8,
   "id": "d3bb5c1c",
   "metadata": {},
   "outputs": [
    {
     "data": {
      "image/png": "[encoded data removed]",
      "text/plain": [
       "<Figure size 350x300 with 1 Axes>"
      ]
     },
     "metadata": {},
     "output_type": "display_data"
    },
    {
     "name": "stdout",
     "output_type": "stream",
     "text": [
      "saved\n"
     ]
    },
    {
     "data": {
      "text/plain": [
       "0"
      ]
     },
     "execution_count": 8,
     "metadata": {},
     "output_type": "execute_result"
    }
   ],
   "source": [
    "model_mlp.load_state_dict(torch.load('saved_ml_models/best_baseline_2_model.pth'))\n",
    "plot_roc(model_mlp, test_dataloader)\n",
    "compute_roc(model_mlp, test_dataloader, filename=\"baseline_2\")"
   ]
  }
 ],
 "metadata": {
  "kernelspec": {
   "display_name": "Python 3 (ipykernel)",
   "language": "python",
   "name": "python3"
  },
  "language_info": {
   "codemirror_mode": {
    "name": "ipython",
    "version": 3
   },
   "file_extension": ".py",
   "mimetype": "text/x-python",
   "name": "python",
   "nbconvert_exporter": "python",
   "pygments_lexer": "ipython3",
   "version": "3.9.13"
  }
 },
 "nbformat": 4,
 "nbformat_minor": 5
}
